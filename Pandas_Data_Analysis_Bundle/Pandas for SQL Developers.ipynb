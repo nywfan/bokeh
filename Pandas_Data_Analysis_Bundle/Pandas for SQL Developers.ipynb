{
 "cells": [
  {
   "cell_type": "markdown",
   "metadata": {},
   "source": [
    "# Pandas set up"
   ]
  },
  {
   "cell_type": "code",
   "execution_count": 1,
   "metadata": {
    "collapsed": false
   },
   "outputs": [
    {
     "name": "stdout",
     "output_type": "stream",
     "text": [
      "Python version 3.5.1 |Anaconda custom (64-bit)| (default, Feb 16 2016, 09:49:46) [MSC v.1900 64 bit (AMD64)]\n",
      "Pandas version 0.20.1\n"
     ]
    }
   ],
   "source": [
    "# Import libraries\n",
    "import pandas as pd\n",
    "import datetime\n",
    "import sys\n",
    "%matplotlib inline\n",
    "\n",
    "print('Python version ' + sys.version)\n",
    "print('Pandas version ' + pd.__version__)"
   ]
  },
  {
   "cell_type": "code",
   "execution_count": 2,
   "metadata": {
    "collapsed": false
   },
   "outputs": [
    {
     "data": {
      "text/html": [
       "<div>\n",
       "<style>\n",
       "    .dataframe thead tr:only-child th {\n",
       "        text-align: right;\n",
       "    }\n",
       "\n",
       "    .dataframe thead th {\n",
       "        text-align: left;\n",
       "    }\n",
       "\n",
       "    .dataframe tbody tr th {\n",
       "        vertical-align: top;\n",
       "    }\n",
       "</style>\n",
       "<table border=\"1\" class=\"dataframe\">\n",
       "  <thead>\n",
       "    <tr style=\"text-align: right;\">\n",
       "      <th></th>\n",
       "      <th>Column1</th>\n",
       "      <th>Column2</th>\n",
       "      <th>Column3</th>\n",
       "      <th>Column4</th>\n",
       "    </tr>\n",
       "  </thead>\n",
       "  <tbody>\n",
       "    <tr>\n",
       "      <th>0</th>\n",
       "      <td>1</td>\n",
       "      <td>a</td>\n",
       "      <td>2013-01-01</td>\n",
       "      <td>1</td>\n",
       "    </tr>\n",
       "    <tr>\n",
       "      <th>1</th>\n",
       "      <td>2</td>\n",
       "      <td>b</td>\n",
       "      <td>2013-01-01</td>\n",
       "      <td>2</td>\n",
       "    </tr>\n",
       "    <tr>\n",
       "      <th>2</th>\n",
       "      <td>3</td>\n",
       "      <td>c</td>\n",
       "      <td>2013-01-01</td>\n",
       "      <td>3</td>\n",
       "    </tr>\n",
       "  </tbody>\n",
       "</table>\n",
       "</div>"
      ],
      "text/plain": [
       "   Column1 Column2    Column3  Column4\n",
       "0        1       a 2013-01-01        1\n",
       "1        2       b 2013-01-01        2\n",
       "2        3       c 2013-01-01        3"
      ]
     },
     "execution_count": 2,
     "metadata": {},
     "output_type": "execute_result"
    }
   ],
   "source": [
    "# Create dummy data for examples\n",
    "df = pd.DataFrame(data = {'Column1':[1,2,3],\n",
    "                       'Column2':['a','b','c'],\n",
    "                       'Column3':[pd.datetime(2013,1,1), pd.datetime(2013,1,1), pd.datetime(2013,1,1)],\n",
    "                       'Column4':[1,2,3]})\n",
    "\n",
    "df"
   ]
  },
  {
   "cell_type": "code",
   "execution_count": 3,
   "metadata": {
    "collapsed": false
   },
   "outputs": [],
   "source": [
    "# How to declare variables\n",
    "# How to update variables\n",
    "# How to update a table\n",
    "# How to get current date, yesterday, last year\n",
    "# How to get first of month or last day of month\n",
    "# How to insert into a table from another table\n",
    "# How to join two tables\n",
    "# How to select n number of rows\n",
    "# How to select rows in ascending/descending order\n",
    "# How to select unique vales (no dups)\n",
    "# How to write a case statement within an update\n",
    "# How to check for NULL values\n",
    "# How to use the Keyword \"IN\"\n",
    "# How to count all of the rows in a table\n",
    "# How to delete contents of a table\n",
    "# How to select the smallest/largest value in a column\n",
    "# How to string match"
   ]
  },
  {
   "cell_type": "markdown",
   "metadata": {},
   "source": [
    "# How to declare variables"
   ]
  },
  {
   "cell_type": "code",
   "execution_count": 4,
   "metadata": {
    "collapsed": false
   },
   "outputs": [],
   "source": [
    "## SQL\n",
    "\n",
    "\"\"\"\n",
    "Declare @Var1 datetime\n",
    "Declare @Var2 char(20)\n",
    "Declare @Var3 nvarchar(20)\n",
    "Declare @Var4 int\n",
    "Declare @Var5 decimal (18,2)\n",
    "Declare @Var6 bit\n",
    "\"\"\"\n",
    "\n",
    "## Pandas\n",
    "\n",
    "Var1 = pd.to_datetime(datetime.date.today())\n",
    "Var2 = 'hello'\n",
    "Var3 = 1\n",
    "Var4 = 1.5"
   ]
  },
  {
   "cell_type": "markdown",
   "metadata": {},
   "source": [
    "# How to update variables"
   ]
  },
  {
   "cell_type": "code",
   "execution_count": 5,
   "metadata": {
    "collapsed": false
   },
   "outputs": [],
   "source": [
    "## SQL\n",
    "\n",
    "\"\"\"\n",
    "Declare @Var2 char(20)\n",
    "Set @Var2 = 'hello'\n",
    "\"\"\"\n",
    "\n",
    "## Pandas\n",
    "\n",
    "Var2 = 'hi' #declare\n",
    "Var2 = 'hello' # update"
   ]
  },
  {
   "cell_type": "markdown",
   "metadata": {},
   "source": [
    "# How to update a table"
   ]
  },
  {
   "cell_type": "code",
   "execution_count": 6,
   "metadata": {
    "collapsed": false
   },
   "outputs": [
    {
     "data": {
      "text/html": [
       "<div>\n",
       "<style>\n",
       "    .dataframe thead tr:only-child th {\n",
       "        text-align: right;\n",
       "    }\n",
       "\n",
       "    .dataframe thead th {\n",
       "        text-align: left;\n",
       "    }\n",
       "\n",
       "    .dataframe tbody tr th {\n",
       "        vertical-align: top;\n",
       "    }\n",
       "</style>\n",
       "<table border=\"1\" class=\"dataframe\">\n",
       "  <thead>\n",
       "    <tr style=\"text-align: right;\">\n",
       "      <th></th>\n",
       "      <th>Column1</th>\n",
       "      <th>Column2</th>\n",
       "      <th>Column3</th>\n",
       "      <th>Column4</th>\n",
       "    </tr>\n",
       "  </thead>\n",
       "  <tbody>\n",
       "    <tr>\n",
       "      <th>0</th>\n",
       "      <td>1</td>\n",
       "      <td>a</td>\n",
       "      <td>2013-01-01</td>\n",
       "      <td>1</td>\n",
       "    </tr>\n",
       "    <tr>\n",
       "      <th>1</th>\n",
       "      <td>1</td>\n",
       "      <td>abc</td>\n",
       "      <td>2017-08-04</td>\n",
       "      <td>2</td>\n",
       "    </tr>\n",
       "    <tr>\n",
       "      <th>2</th>\n",
       "      <td>1</td>\n",
       "      <td>abc</td>\n",
       "      <td>2017-08-04</td>\n",
       "      <td>3</td>\n",
       "    </tr>\n",
       "  </tbody>\n",
       "</table>\n",
       "</div>"
      ],
      "text/plain": [
       "   Column1 Column2    Column3  Column4\n",
       "0        1       a 2013-01-01        1\n",
       "1        1     abc 2017-08-04        2\n",
       "2        1     abc 2017-08-04        3"
      ]
     },
     "execution_count": 6,
     "metadata": {},
     "output_type": "execute_result"
    }
   ],
   "source": [
    "## SQL\n",
    "\n",
    "\"\"\"\n",
    "--ver1:\n",
    "UPDATE tblName\n",
    "    SET Column1 = 1,\n",
    "    Column2 = 'NERevenueCode',\n",
    "    Column3 = getdate()\n",
    "WHERE Column4 = 'NEAccSummaryLoadMain'\n",
    "\n",
    "--ver2:\n",
    "UPDATE cc\n",
    "    SET cc.Column1 = 1,\n",
    "    cc.Column2 = 'NERevenueCode',\n",
    "    cc.Column3 = getdate()\n",
    "FROM tblName cc\n",
    "WHERE cc.Column4 = 'NEAccSummaryLoadMain'\n",
    "\"\"\"\n",
    "\n",
    "## Pandas\n",
    "\n",
    "# Create where statement\n",
    "# mask = where Column4 is greater than 1\n",
    "mask = df['Column4'] > 1\n",
    "\n",
    "# Update Column where Column4 is greater than 1\n",
    "df.loc[mask, 'Column1'] = 1\n",
    "df.loc[mask, 'Column2'] = 'abc'\n",
    "df.loc[mask, 'Column3'] = pd.to_datetime(datetime.date.today())\n",
    "df"
   ]
  },
  {
   "cell_type": "markdown",
   "metadata": {},
   "source": [
    "# How to get current date, yesterday, last year"
   ]
  },
  {
   "cell_type": "code",
   "execution_count": 7,
   "metadata": {
    "collapsed": false
   },
   "outputs": [
    {
     "name": "stdout",
     "output_type": "stream",
     "text": [
      "TodayTimeStamp 2017-08-04 22:18:48\n",
      "Today 2017-08-04 00:00:00\n",
      "YesterdayTimeStamp 2017-08-03 22:18:48.110431\n",
      "Yesterday 2017-08-03 00:00:00\n",
      "OneYearTimeStamp 2016-08-04 22:18:48.111431\n",
      "OneYear 2016-08-04 00:00:00\n"
     ]
    }
   ],
   "source": [
    "## SQL\n",
    "\n",
    "\"\"\"\n",
    "-- Date functions\n",
    "SELECT getdate() -- Todays date with time stamp\n",
    "SELECT dateadd (dd, datediff (dd, 0, GetDate()), 0) --Todays date with no time stamp \n",
    "SELECT dateadd (dd, datediff (dd, 0, GetDate()), -1) --Yesterdays date with no time stamp \n",
    "SELECT DateAdd (yy, -1, DateDiff(dd, 0, GetDate())) --One year ago no timestamp\n",
    "\"\"\"\n",
    "\n",
    "## Pandas\n",
    "\n",
    "TodayTimeStamp = pd.to_datetime(datetime.datetime.now().strftime(\"%Y-%m-%d %H:%M:%S\"))\n",
    "Today = pd.to_datetime(datetime.datetime.now().strftime(\"%Y-%m-%d\"))\n",
    "YesterdayTimeStamp = pd.to_datetime(datetime.datetime.today()-datetime.timedelta(days=1))\n",
    "Yesterday = pd.to_datetime(datetime.date.today()-datetime.timedelta(days=1))\n",
    "OneYearTimeStamp = pd.to_datetime(datetime.datetime.today().replace(year=datetime.datetime.today().year - 1))\n",
    "OneYear = pd.to_datetime(datetime.date.today().replace(year=datetime.date.today().year - 1))\n",
    "\n",
    "print('TodayTimeStamp ' + str(TodayTimeStamp))\n",
    "print('Today ' + str(Today))\n",
    "print('YesterdayTimeStamp ' + str(YesterdayTimeStamp))\n",
    "print('Yesterday ' + str(Yesterday))\n",
    "print('OneYearTimeStamp ' + str(OneYearTimeStamp))\n",
    "print('OneYear ' + str(OneYear))"
   ]
  },
  {
   "cell_type": "markdown",
   "metadata": {},
   "source": [
    "# How to get first of month or last day of month"
   ]
  },
  {
   "cell_type": "code",
   "execution_count": 8,
   "metadata": {
    "collapsed": false
   },
   "outputs": [
    {
     "name": "stdout",
     "output_type": "stream",
     "text": [
      "FirstDay 2017-08-01 00:00:00\n",
      "LastDay 2017-08-31 00:00:00\n"
     ]
    }
   ],
   "source": [
    "## SQL\n",
    "\n",
    "\"\"\"\n",
    "--Declare variables\n",
    "Declare @BeginDate datetime\n",
    "Declare @EndDate datetime\n",
    "\n",
    "-- set @BeginDate = first day of last month\n",
    "Set @BeginDate = DateAdd(mm, DateDiff(mm, 0, GetDate()) - 1, 0)\n",
    "\n",
    "-- set @EndDate = last day of last month\n",
    "Set @EndDate = DateAdd(dd, -1, (DateAdd(mm, 1, @BeginDate)))\n",
    "\"\"\"\n",
    "\n",
    "## Pandas\n",
    "\n",
    "FirstDay = pd.to_datetime(datetime.date.today().replace(month=datetime.date.today().month, day=1))\n",
    "LastDay = FirstDay.replace(month=FirstDay.month+1)-datetime.timedelta(days=1)\n",
    "\n",
    "print('FirstDay ' + str(FirstDay))\n",
    "print('LastDay ' + str(LastDay))"
   ]
  },
  {
   "cell_type": "markdown",
   "metadata": {},
   "source": [
    "# How to insert into a table from another table"
   ]
  },
  {
   "cell_type": "code",
   "execution_count": 9,
   "metadata": {
    "collapsed": false
   },
   "outputs": [
    {
     "data": {
      "text/html": [
       "<div>\n",
       "<style>\n",
       "    .dataframe thead tr:only-child th {\n",
       "        text-align: right;\n",
       "    }\n",
       "\n",
       "    .dataframe thead th {\n",
       "        text-align: left;\n",
       "    }\n",
       "\n",
       "    .dataframe tbody tr th {\n",
       "        vertical-align: top;\n",
       "    }\n",
       "</style>\n",
       "<table border=\"1\" class=\"dataframe\">\n",
       "  <thead>\n",
       "    <tr style=\"text-align: right;\">\n",
       "      <th></th>\n",
       "      <th>Column1</th>\n",
       "      <th>Column2</th>\n",
       "      <th>Column3</th>\n",
       "      <th>Column4</th>\n",
       "    </tr>\n",
       "  </thead>\n",
       "  <tbody>\n",
       "    <tr>\n",
       "      <th>0</th>\n",
       "      <td>1</td>\n",
       "      <td>a</td>\n",
       "      <td>2013-01-01</td>\n",
       "      <td>1</td>\n",
       "    </tr>\n",
       "    <tr>\n",
       "      <th>1</th>\n",
       "      <td>1</td>\n",
       "      <td>abc</td>\n",
       "      <td>2017-08-04</td>\n",
       "      <td>2</td>\n",
       "    </tr>\n",
       "    <tr>\n",
       "      <th>2</th>\n",
       "      <td>1</td>\n",
       "      <td>abc</td>\n",
       "      <td>2017-08-04</td>\n",
       "      <td>3</td>\n",
       "    </tr>\n",
       "  </tbody>\n",
       "</table>\n",
       "</div>"
      ],
      "text/plain": [
       "   Column1 Column2    Column3  Column4\n",
       "0        1       a 2013-01-01        1\n",
       "1        1     abc 2017-08-04        2\n",
       "2        1     abc 2017-08-04        3"
      ]
     },
     "execution_count": 9,
     "metadata": {},
     "output_type": "execute_result"
    }
   ],
   "source": [
    "## SQL\n",
    "\n",
    "\"\"\"\n",
    "IF OBJECT_ID('tempdb..#tblName','u') IS NOT NULL\n",
    "BEGIN\n",
    "DROP TABLE #tblName\n",
    "END\n",
    "CREATE TABLE #tblName \n",
    "(\n",
    "    Var1 varchar (25) PRIMARY KEY,\n",
    "    Var2 datetime\n",
    ")\n",
    "\n",
    "IF OBJECT_ID('tempdb..#tblName2','u') IS NOT NULL\n",
    "BEGIN\n",
    "DROP TABLE #tblName2\n",
    "END\n",
    "CREATE TABLE #tblName2\n",
    "(\n",
    "    Var1 varchar (25) PRIMARY KEY,\n",
    "    Var2 datetime\n",
    ")\n",
    "\n",
    "INSERT #tblName2 (Var1, Var2)\n",
    "SELECT 'tom',\n",
    "        getdate() \n",
    "\n",
    "INSERT #tblName (Var1, Var2)\n",
    "SELECT Var1,\n",
    "        Var2\n",
    "FROM #tblName2\n",
    "\n",
    "SELECT * FROM #tblName\n",
    "\"\"\"\n",
    "\n",
    "## Pandas\n",
    "\n",
    "# Insert into new data frame using the data from df\n",
    "df2 = df\n",
    "df"
   ]
  },
  {
   "cell_type": "markdown",
   "metadata": {},
   "source": [
    "# How to join two tables"
   ]
  },
  {
   "cell_type": "code",
   "execution_count": 10,
   "metadata": {
    "collapsed": false
   },
   "outputs": [
    {
     "data": {
      "text/html": [
       "<div>\n",
       "<style>\n",
       "    .dataframe thead tr:only-child th {\n",
       "        text-align: right;\n",
       "    }\n",
       "\n",
       "    .dataframe thead th {\n",
       "        text-align: left;\n",
       "    }\n",
       "\n",
       "    .dataframe tbody tr th {\n",
       "        vertical-align: top;\n",
       "    }\n",
       "</style>\n",
       "<table border=\"1\" class=\"dataframe\">\n",
       "  <thead>\n",
       "    <tr style=\"text-align: right;\">\n",
       "      <th></th>\n",
       "      <th>Column1</th>\n",
       "      <th>Column2_x</th>\n",
       "      <th>Column3_x</th>\n",
       "      <th>Column4_x</th>\n",
       "      <th>Column2_y</th>\n",
       "      <th>Column3_y</th>\n",
       "      <th>Column4_y</th>\n",
       "    </tr>\n",
       "  </thead>\n",
       "  <tbody>\n",
       "    <tr>\n",
       "      <th>0</th>\n",
       "      <td>1</td>\n",
       "      <td>a</td>\n",
       "      <td>2013-01-01</td>\n",
       "      <td>1</td>\n",
       "      <td>a</td>\n",
       "      <td>2013-01-01</td>\n",
       "      <td>1</td>\n",
       "    </tr>\n",
       "    <tr>\n",
       "      <th>1</th>\n",
       "      <td>1</td>\n",
       "      <td>a</td>\n",
       "      <td>2013-01-01</td>\n",
       "      <td>1</td>\n",
       "      <td>abc</td>\n",
       "      <td>2017-08-04</td>\n",
       "      <td>2</td>\n",
       "    </tr>\n",
       "    <tr>\n",
       "      <th>2</th>\n",
       "      <td>1</td>\n",
       "      <td>a</td>\n",
       "      <td>2013-01-01</td>\n",
       "      <td>1</td>\n",
       "      <td>abc</td>\n",
       "      <td>2017-08-04</td>\n",
       "      <td>3</td>\n",
       "    </tr>\n",
       "    <tr>\n",
       "      <th>3</th>\n",
       "      <td>1</td>\n",
       "      <td>abc</td>\n",
       "      <td>2017-08-04</td>\n",
       "      <td>2</td>\n",
       "      <td>a</td>\n",
       "      <td>2013-01-01</td>\n",
       "      <td>1</td>\n",
       "    </tr>\n",
       "    <tr>\n",
       "      <th>4</th>\n",
       "      <td>1</td>\n",
       "      <td>abc</td>\n",
       "      <td>2017-08-04</td>\n",
       "      <td>2</td>\n",
       "      <td>abc</td>\n",
       "      <td>2017-08-04</td>\n",
       "      <td>2</td>\n",
       "    </tr>\n",
       "    <tr>\n",
       "      <th>5</th>\n",
       "      <td>1</td>\n",
       "      <td>abc</td>\n",
       "      <td>2017-08-04</td>\n",
       "      <td>2</td>\n",
       "      <td>abc</td>\n",
       "      <td>2017-08-04</td>\n",
       "      <td>3</td>\n",
       "    </tr>\n",
       "    <tr>\n",
       "      <th>6</th>\n",
       "      <td>1</td>\n",
       "      <td>abc</td>\n",
       "      <td>2017-08-04</td>\n",
       "      <td>3</td>\n",
       "      <td>a</td>\n",
       "      <td>2013-01-01</td>\n",
       "      <td>1</td>\n",
       "    </tr>\n",
       "    <tr>\n",
       "      <th>7</th>\n",
       "      <td>1</td>\n",
       "      <td>abc</td>\n",
       "      <td>2017-08-04</td>\n",
       "      <td>3</td>\n",
       "      <td>abc</td>\n",
       "      <td>2017-08-04</td>\n",
       "      <td>2</td>\n",
       "    </tr>\n",
       "    <tr>\n",
       "      <th>8</th>\n",
       "      <td>1</td>\n",
       "      <td>abc</td>\n",
       "      <td>2017-08-04</td>\n",
       "      <td>3</td>\n",
       "      <td>abc</td>\n",
       "      <td>2017-08-04</td>\n",
       "      <td>3</td>\n",
       "    </tr>\n",
       "  </tbody>\n",
       "</table>\n",
       "</div>"
      ],
      "text/plain": [
       "   Column1 Column2_x  Column3_x  Column4_x Column2_y  Column3_y  Column4_y\n",
       "0        1         a 2013-01-01          1         a 2013-01-01          1\n",
       "1        1         a 2013-01-01          1       abc 2017-08-04          2\n",
       "2        1         a 2013-01-01          1       abc 2017-08-04          3\n",
       "3        1       abc 2017-08-04          2         a 2013-01-01          1\n",
       "4        1       abc 2017-08-04          2       abc 2017-08-04          2\n",
       "5        1       abc 2017-08-04          2       abc 2017-08-04          3\n",
       "6        1       abc 2017-08-04          3         a 2013-01-01          1\n",
       "7        1       abc 2017-08-04          3       abc 2017-08-04          2\n",
       "8        1       abc 2017-08-04          3       abc 2017-08-04          3"
      ]
     },
     "execution_count": 10,
     "metadata": {},
     "output_type": "execute_result"
    }
   ],
   "source": [
    "## SQL\n",
    "\n",
    "\"\"\"\n",
    "-- Only returns if col1 matches col2\n",
    "SELECT a.*\n",
    "FROM tbl1 a\n",
    "JOIN tbl2 b on (a.Col1 = b.Col2)\n",
    "\n",
    "-- Returns all rows from tbl1 even if col1 does not match col2\n",
    "SELECT a.*\n",
    "FROM tbl1 a\n",
    "LEFT JOIN tbl2 b on (a.Col1 = b.Col2)\n",
    "\"\"\"\n",
    "\n",
    "## Pandas\n",
    "\n",
    "# inner join\n",
    "df.merge(df2,left_on='Column1',right_on='Column1')\n",
    "\n",
    "# left join\n",
    "df.merge(df2,left_on='Column1',right_on='Column1',how='left')"
   ]
  },
  {
   "cell_type": "markdown",
   "metadata": {},
   "source": [
    "# How to select n number of rows"
   ]
  },
  {
   "cell_type": "code",
   "execution_count": 11,
   "metadata": {
    "collapsed": false
   },
   "outputs": [
    {
     "data": {
      "text/html": [
       "<div>\n",
       "<style>\n",
       "    .dataframe thead tr:only-child th {\n",
       "        text-align: right;\n",
       "    }\n",
       "\n",
       "    .dataframe thead th {\n",
       "        text-align: left;\n",
       "    }\n",
       "\n",
       "    .dataframe tbody tr th {\n",
       "        vertical-align: top;\n",
       "    }\n",
       "</style>\n",
       "<table border=\"1\" class=\"dataframe\">\n",
       "  <thead>\n",
       "    <tr style=\"text-align: right;\">\n",
       "      <th></th>\n",
       "      <th>Column1</th>\n",
       "      <th>Column2</th>\n",
       "      <th>Column3</th>\n",
       "      <th>Column4</th>\n",
       "    </tr>\n",
       "  </thead>\n",
       "  <tbody>\n",
       "    <tr>\n",
       "      <th>0</th>\n",
       "      <td>1</td>\n",
       "      <td>a</td>\n",
       "      <td>2013-01-01</td>\n",
       "      <td>1</td>\n",
       "    </tr>\n",
       "    <tr>\n",
       "      <th>1</th>\n",
       "      <td>1</td>\n",
       "      <td>abc</td>\n",
       "      <td>2017-08-04</td>\n",
       "      <td>2</td>\n",
       "    </tr>\n",
       "    <tr>\n",
       "      <th>2</th>\n",
       "      <td>1</td>\n",
       "      <td>abc</td>\n",
       "      <td>2017-08-04</td>\n",
       "      <td>3</td>\n",
       "    </tr>\n",
       "  </tbody>\n",
       "</table>\n",
       "</div>"
      ],
      "text/plain": [
       "   Column1 Column2    Column3  Column4\n",
       "0        1       a 2013-01-01        1\n",
       "1        1     abc 2017-08-04        2\n",
       "2        1     abc 2017-08-04        3"
      ]
     },
     "execution_count": 11,
     "metadata": {},
     "output_type": "execute_result"
    }
   ],
   "source": [
    "## SQL\n",
    "\n",
    "\"\"\"\n",
    "-- selects only n number of rows\n",
    "-- does not mean they will be in asc or desc order\n",
    "SELECT top 500 Col1\n",
    "FROM tbl1\n",
    "\"\"\"\n",
    "\n",
    "## Pandas\n",
    "\n",
    "df.head(500)\n",
    "df.tail(500)"
   ]
  },
  {
   "cell_type": "markdown",
   "metadata": {},
   "source": [
    "# How to select rows in ascending/descending order"
   ]
  },
  {
   "cell_type": "code",
   "execution_count": 12,
   "metadata": {
    "collapsed": false
   },
   "outputs": [
    {
     "data": {
      "text/html": [
       "<div>\n",
       "<style>\n",
       "    .dataframe thead tr:only-child th {\n",
       "        text-align: right;\n",
       "    }\n",
       "\n",
       "    .dataframe thead th {\n",
       "        text-align: left;\n",
       "    }\n",
       "\n",
       "    .dataframe tbody tr th {\n",
       "        vertical-align: top;\n",
       "    }\n",
       "</style>\n",
       "<table border=\"1\" class=\"dataframe\">\n",
       "  <thead>\n",
       "    <tr style=\"text-align: right;\">\n",
       "      <th></th>\n",
       "      <th>Column1</th>\n",
       "      <th>Column2</th>\n",
       "      <th>Column3</th>\n",
       "      <th>Column4</th>\n",
       "    </tr>\n",
       "  </thead>\n",
       "  <tbody>\n",
       "    <tr>\n",
       "      <th>2</th>\n",
       "      <td>1</td>\n",
       "      <td>abc</td>\n",
       "      <td>2017-08-04</td>\n",
       "      <td>3</td>\n",
       "    </tr>\n",
       "    <tr>\n",
       "      <th>1</th>\n",
       "      <td>1</td>\n",
       "      <td>abc</td>\n",
       "      <td>2017-08-04</td>\n",
       "      <td>2</td>\n",
       "    </tr>\n",
       "    <tr>\n",
       "      <th>0</th>\n",
       "      <td>1</td>\n",
       "      <td>a</td>\n",
       "      <td>2013-01-01</td>\n",
       "      <td>1</td>\n",
       "    </tr>\n",
       "  </tbody>\n",
       "</table>\n",
       "</div>"
      ],
      "text/plain": [
       "   Column1 Column2    Column3  Column4\n",
       "2        1     abc 2017-08-04        3\n",
       "1        1     abc 2017-08-04        2\n",
       "0        1       a 2013-01-01        1"
      ]
     },
     "execution_count": 12,
     "metadata": {},
     "output_type": "execute_result"
    }
   ],
   "source": [
    "## SQL\n",
    "\n",
    "\"\"\"\n",
    "-- Select rows in ascending order\n",
    "SELECT *\n",
    "FROM tbl1\n",
    "ORDER BY Col1 ASC\n",
    "\n",
    "-- Select rows in descending order\n",
    "SELECT *\n",
    "FROM tbl1\n",
    "ORDER BY Col1 DESC\n",
    "\"\"\"\n",
    "\n",
    "## Pandas\n",
    "\n",
    "# order by Column4 ascending\n",
    "df.sort_values(by=['Column4'], ascending=True)\n",
    "\n",
    "# order by Column4 descending\n",
    "df.sort_values(by=['Column4'], ascending=False)"
   ]
  },
  {
   "cell_type": "markdown",
   "metadata": {},
   "source": [
    "# How to select unique vales (no dups)"
   ]
  },
  {
   "cell_type": "code",
   "execution_count": 13,
   "metadata": {
    "collapsed": false
   },
   "outputs": [
    {
     "data": {
      "text/plain": [
       "array([1], dtype=int64)"
      ]
     },
     "execution_count": 13,
     "metadata": {},
     "output_type": "execute_result"
    }
   ],
   "source": [
    "# SQL\n",
    "\n",
    "\"\"\"\n",
    "SELECT DISTINCT Col1\n",
    "FROM tbl1\n",
    "\"\"\"\n",
    "\n",
    "# Pandas\n",
    "\n",
    "df['Column1'].unique()"
   ]
  },
  {
   "cell_type": "markdown",
   "metadata": {},
   "source": [
    "# How to write a case statement within an update"
   ]
  },
  {
   "cell_type": "code",
   "execution_count": 14,
   "metadata": {
    "collapsed": false
   },
   "outputs": [
    {
     "data": {
      "text/plain": [
       "0    1\n",
       "1    1\n",
       "2    1\n",
       "Name: Column1, dtype: int64"
      ]
     },
     "execution_count": 14,
     "metadata": {},
     "output_type": "execute_result"
    }
   ],
   "source": [
    "## SQL\n",
    "\n",
    "\"\"\"\n",
    "UPDATE dr\n",
    "      SET dr.Col1 =\n",
    "            CASE\n",
    "                WHEN (SELECT @Var1) > 0 THEN 'Residential'\n",
    "                ELSE 'Commercial'\n",
    "            END\n",
    "      FROM tblName dr\n",
    "\"\"\"\n",
    "\n",
    "## Pandas\n",
    "\n",
    "# Set Column1 = 10 if value is equal to 2\n",
    "# Set Column1 = 20 if value is equal to 3\n",
    "# else Set Column1 = its current value\n",
    "df['Column1'].apply(lambda x: 10 if x==2 else (20 if x==3 else x))"
   ]
  },
  {
   "cell_type": "markdown",
   "metadata": {},
   "source": [
    "# How to check for NULL values"
   ]
  },
  {
   "cell_type": "code",
   "execution_count": 15,
   "metadata": {
    "collapsed": false
   },
   "outputs": [
    {
     "data": {
      "text/html": [
       "<div>\n",
       "<style>\n",
       "    .dataframe thead tr:only-child th {\n",
       "        text-align: right;\n",
       "    }\n",
       "\n",
       "    .dataframe thead th {\n",
       "        text-align: left;\n",
       "    }\n",
       "\n",
       "    .dataframe tbody tr th {\n",
       "        vertical-align: top;\n",
       "    }\n",
       "</style>\n",
       "<table border=\"1\" class=\"dataframe\">\n",
       "  <thead>\n",
       "    <tr style=\"text-align: right;\">\n",
       "      <th></th>\n",
       "      <th>Column1</th>\n",
       "      <th>Column2</th>\n",
       "      <th>Column3</th>\n",
       "      <th>Column4</th>\n",
       "    </tr>\n",
       "  </thead>\n",
       "  <tbody>\n",
       "    <tr>\n",
       "      <th>0</th>\n",
       "      <td>1</td>\n",
       "      <td>a</td>\n",
       "      <td>2013-01-01</td>\n",
       "      <td>1</td>\n",
       "    </tr>\n",
       "    <tr>\n",
       "      <th>1</th>\n",
       "      <td>1</td>\n",
       "      <td>abc</td>\n",
       "      <td>2017-08-04</td>\n",
       "      <td>2</td>\n",
       "    </tr>\n",
       "    <tr>\n",
       "      <th>2</th>\n",
       "      <td>1</td>\n",
       "      <td>abc</td>\n",
       "      <td>2017-08-04</td>\n",
       "      <td>3</td>\n",
       "    </tr>\n",
       "  </tbody>\n",
       "</table>\n",
       "</div>"
      ],
      "text/plain": [
       "   Column1 Column2    Column3  Column4\n",
       "0        1       a 2013-01-01        1\n",
       "1        1     abc 2017-08-04        2\n",
       "2        1     abc 2017-08-04        3"
      ]
     },
     "execution_count": 15,
     "metadata": {},
     "output_type": "execute_result"
    }
   ],
   "source": [
    "## SQL\n",
    "\n",
    "\"\"\"\n",
    "--function ISNULL (Var1, 0)\t\n",
    "-- if Var1 is null then assign it a zero, or whatever you want\n",
    "SELECt ISNULL (Col1, 0) FROM tblName\n",
    "\n",
    "-- you can also just check the column without modifying it\n",
    "SELECT * \n",
    "FROM tblName\n",
    "WHERE Col1 IS NOT NULL -- select everything where Col1 is not null\n",
    "\n",
    "SELECT * \n",
    "FROM tblName\n",
    "WHERE Col1 IS NULL -- select everything where Col1 is null\n",
    "\"\"\"\n",
    "\n",
    "## Pandas\n",
    "\n",
    "# Only return non null values\n",
    "df.dropna()\n",
    "\n",
    "# Check if column has any null values\n",
    "df['Column1'].isnull()\n",
    "\n",
    "# Only return rows that are not null\n",
    "df[~df['Column1'].isnull()]\n",
    "\n",
    "# Fill null values with a zero\n",
    "df.fillna(0)"
   ]
  },
  {
   "cell_type": "markdown",
   "metadata": {},
   "source": [
    "# How to use the Keyword \"IN\""
   ]
  },
  {
   "cell_type": "code",
   "execution_count": 16,
   "metadata": {
    "collapsed": false
   },
   "outputs": [
    {
     "data": {
      "text/html": [
       "<div>\n",
       "<style>\n",
       "    .dataframe thead tr:only-child th {\n",
       "        text-align: right;\n",
       "    }\n",
       "\n",
       "    .dataframe thead th {\n",
       "        text-align: left;\n",
       "    }\n",
       "\n",
       "    .dataframe tbody tr th {\n",
       "        vertical-align: top;\n",
       "    }\n",
       "</style>\n",
       "<table border=\"1\" class=\"dataframe\">\n",
       "  <thead>\n",
       "    <tr style=\"text-align: right;\">\n",
       "      <th></th>\n",
       "      <th>Column1</th>\n",
       "      <th>Column2</th>\n",
       "      <th>Column3</th>\n",
       "      <th>Column4</th>\n",
       "    </tr>\n",
       "  </thead>\n",
       "  <tbody>\n",
       "    <tr>\n",
       "      <th>0</th>\n",
       "      <td>1</td>\n",
       "      <td>a</td>\n",
       "      <td>2013-01-01</td>\n",
       "      <td>1</td>\n",
       "    </tr>\n",
       "    <tr>\n",
       "      <th>1</th>\n",
       "      <td>1</td>\n",
       "      <td>abc</td>\n",
       "      <td>2017-08-04</td>\n",
       "      <td>2</td>\n",
       "    </tr>\n",
       "    <tr>\n",
       "      <th>2</th>\n",
       "      <td>1</td>\n",
       "      <td>abc</td>\n",
       "      <td>2017-08-04</td>\n",
       "      <td>3</td>\n",
       "    </tr>\n",
       "  </tbody>\n",
       "</table>\n",
       "</div>"
      ],
      "text/plain": [
       "   Column1 Column2    Column3  Column4\n",
       "0        1       a 2013-01-01        1\n",
       "1        1     abc 2017-08-04        2\n",
       "2        1     abc 2017-08-04        3"
      ]
     },
     "execution_count": 16,
     "metadata": {},
     "output_type": "execute_result"
    }
   ],
   "source": [
    "## SQL\n",
    "\n",
    "\"\"\"\n",
    "SELECT * FROM tbl WHERE Col1 IN (1,2,3)\n",
    "\"\"\"\n",
    "\n",
    "## Pandas\n",
    "\n",
    "mask = df['Column1'].isin([1,2,3])\n",
    "df[mask]"
   ]
  },
  {
   "cell_type": "markdown",
   "metadata": {},
   "source": [
    "# How to count all of the rows in a table"
   ]
  },
  {
   "cell_type": "code",
   "execution_count": 17,
   "metadata": {
    "collapsed": false
   },
   "outputs": [
    {
     "data": {
      "text/plain": [
       "Column1    3\n",
       "Column2    3\n",
       "Column3    3\n",
       "Column4    3\n",
       "dtype: int64"
      ]
     },
     "execution_count": 17,
     "metadata": {},
     "output_type": "execute_result"
    }
   ],
   "source": [
    "## SQL\n",
    "\n",
    "\"\"\"\n",
    "SELECT COUNT(*) FROM tblName\n",
    "\"\"\"\n",
    "\n",
    "## Pandas\n",
    "\n",
    "# you can also use df.shape[0]\n",
    "\n",
    "df.count()"
   ]
  },
  {
   "cell_type": "markdown",
   "metadata": {},
   "source": [
    "# How to delete contents of a table"
   ]
  },
  {
   "cell_type": "code",
   "execution_count": 18,
   "metadata": {
    "collapsed": false
   },
   "outputs": [
    {
     "data": {
      "text/html": [
       "<div>\n",
       "<style>\n",
       "    .dataframe thead tr:only-child th {\n",
       "        text-align: right;\n",
       "    }\n",
       "\n",
       "    .dataframe thead th {\n",
       "        text-align: left;\n",
       "    }\n",
       "\n",
       "    .dataframe tbody tr th {\n",
       "        vertical-align: top;\n",
       "    }\n",
       "</style>\n",
       "<table border=\"1\" class=\"dataframe\">\n",
       "  <thead>\n",
       "    <tr style=\"text-align: right;\">\n",
       "      <th></th>\n",
       "      <th>Column1</th>\n",
       "      <th>Column2</th>\n",
       "      <th>Column3</th>\n",
       "      <th>Column4</th>\n",
       "    </tr>\n",
       "  </thead>\n",
       "  <tbody>\n",
       "    <tr>\n",
       "      <th>1</th>\n",
       "      <td>1</td>\n",
       "      <td>abc</td>\n",
       "      <td>2017-08-04</td>\n",
       "      <td>2</td>\n",
       "    </tr>\n",
       "    <tr>\n",
       "      <th>2</th>\n",
       "      <td>1</td>\n",
       "      <td>abc</td>\n",
       "      <td>2017-08-04</td>\n",
       "      <td>3</td>\n",
       "    </tr>\n",
       "  </tbody>\n",
       "</table>\n",
       "</div>"
      ],
      "text/plain": [
       "   Column1 Column2    Column3  Column4\n",
       "1        1     abc 2017-08-04        2\n",
       "2        1     abc 2017-08-04        3"
      ]
     },
     "execution_count": 18,
     "metadata": {},
     "output_type": "execute_result"
    }
   ],
   "source": [
    "## SQL\n",
    "\n",
    "\"\"\"\n",
    "DELETE tblName -- deletes all contents of table\n",
    "\n",
    "DELETE tblName -- deletes only rows where col1 = 0\n",
    "WHERE col1 = 0\n",
    "\"\"\"\n",
    "\n",
    "## Pandas\n",
    "\n",
    "# delete any rows where column Var2 is less than 1/2/2013\n",
    "mask = df['Column3'] > pd.to_datetime('2013-1-1')\n",
    "df[mask]"
   ]
  },
  {
   "cell_type": "markdown",
   "metadata": {},
   "source": [
    "# How to select the smallest/largest value in a column"
   ]
  },
  {
   "cell_type": "code",
   "execution_count": 19,
   "metadata": {
    "collapsed": false
   },
   "outputs": [
    {
     "data": {
      "text/plain": [
       "Column1                      1\n",
       "Column2                      a\n",
       "Column3    2013-01-01 00:00:00\n",
       "Column4                      1\n",
       "dtype: object"
      ]
     },
     "execution_count": 19,
     "metadata": {},
     "output_type": "execute_result"
    }
   ],
   "source": [
    "## SQL\n",
    "\n",
    "\"\"\"\n",
    "SELECT MIN (col1) FROM tblName\n",
    "SELECT MAX (col1) FROM tblName\n",
    "\"\"\"\n",
    "\n",
    "## Pandas\n",
    "\n",
    "df.max()\n",
    "df.min()"
   ]
  },
  {
   "cell_type": "markdown",
   "metadata": {},
   "source": [
    "# How to string match"
   ]
  },
  {
   "cell_type": "code",
   "execution_count": 20,
   "metadata": {
    "collapsed": false
   },
   "outputs": [
    {
     "data": {
      "text/html": [
       "<div>\n",
       "<style>\n",
       "    .dataframe thead tr:only-child th {\n",
       "        text-align: right;\n",
       "    }\n",
       "\n",
       "    .dataframe thead th {\n",
       "        text-align: left;\n",
       "    }\n",
       "\n",
       "    .dataframe tbody tr th {\n",
       "        vertical-align: top;\n",
       "    }\n",
       "</style>\n",
       "<table border=\"1\" class=\"dataframe\">\n",
       "  <thead>\n",
       "    <tr style=\"text-align: right;\">\n",
       "      <th></th>\n",
       "      <th>Column1</th>\n",
       "      <th>Column2</th>\n",
       "      <th>Column3</th>\n",
       "      <th>Column4</th>\n",
       "    </tr>\n",
       "  </thead>\n",
       "  <tbody>\n",
       "    <tr>\n",
       "      <th>1</th>\n",
       "      <td>1</td>\n",
       "      <td>abc</td>\n",
       "      <td>2017-08-04</td>\n",
       "      <td>2</td>\n",
       "    </tr>\n",
       "    <tr>\n",
       "      <th>2</th>\n",
       "      <td>1</td>\n",
       "      <td>abc</td>\n",
       "      <td>2017-08-04</td>\n",
       "      <td>3</td>\n",
       "    </tr>\n",
       "  </tbody>\n",
       "</table>\n",
       "</div>"
      ],
      "text/plain": [
       "   Column1 Column2    Column3  Column4\n",
       "1        1     abc 2017-08-04        2\n",
       "2        1     abc 2017-08-04        3"
      ]
     },
     "execution_count": 20,
     "metadata": {},
     "output_type": "execute_result"
    }
   ],
   "source": [
    "## SQL\n",
    "\n",
    "\"\"\"\n",
    "SELECT * \n",
    "FROM tblName\n",
    "WHERE Col1 LIKE '%StringYouAreSearchingFor%' \n",
    "\n",
    "SELECT * \n",
    "FROM tblName\n",
    "WHERE Col1 NOT LIKE '%StringYouAreSearchingFor%'\n",
    "\"\"\"\n",
    "\n",
    "## Pandas\n",
    "\n",
    "mask1 = df['Column2'].str.startswith('b')\n",
    "mask2 = df['Column2'].str.endswith('a')\n",
    "mask3 = df['Column2'].str.contains('c')\n",
    "\n",
    "df[mask3]"
   ]
  },
  {
   "cell_type": "markdown",
   "metadata": {},
   "source": [
    "**Author:** [HEDARO](http://www.hedaro.com)  "
   ]
  }
 ],
 "metadata": {
  "anaconda-cloud": {},
  "kernelspec": {
   "display_name": "Python [default]",
   "language": "python",
   "name": "python3"
  },
  "language_info": {
   "codemirror_mode": {
    "name": "ipython",
    "version": 3
   },
   "file_extension": ".py",
   "mimetype": "text/x-python",
   "name": "python",
   "nbconvert_exporter": "python",
   "pygments_lexer": "ipython3",
   "version": "3.5.1"
  }
 },
 "nbformat": 4,
 "nbformat_minor": 0
}
