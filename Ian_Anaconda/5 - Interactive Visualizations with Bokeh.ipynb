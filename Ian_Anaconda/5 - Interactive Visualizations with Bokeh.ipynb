{
 "cells": [
  {
   "cell_type": "markdown",
   "metadata": {},
   "source": [
    "5 - Creating Interactive Visualizations with Bokeh\n",
    "=========================================\n",
    "\n",
    "<center>\n",
    "<img src=https://bokeh.github.io/images/logo.svg />\n",
    "</center>\n",
    "\n",
    "<br/>\n",
    "\n",
    "<font size=+1>\n",
    "<a href=https://anaconda.org/datasciencepythonr/5-interactive-visualizations-with-bokeh>\n",
    "https://anaconda.org/datasciencepythonr/5-interactive-visualizations-with-bokeh\n",
    "</a>\n",
    "</font>\n",
    "\n",
    "Reference: [Bokeh documentation](http://bokeh.pydata.org)"
   ]
  },
  {
   "cell_type": "markdown",
   "metadata": {},
   "source": [
    "5.1 Describe Bokeh\n",
    "------------------"
   ]
  },
  {
   "cell_type": "markdown",
   "metadata": {},
   "source": [
    "<img src=\"http://ijstokes-public.s3.amazonaws.com/dspyr/img/bokeh_architecture.png\" style=\"width:800px\">"
   ]
  },
  {
   "cell_type": "markdown",
   "metadata": {},
   "source": [
    "### BokehJS\n",
    "* Runs in the browser\n",
    "* Responsible for all of the rendering and user interaction\n",
    "* Inputs are a collection of declarative JSON objects that comprise a **“scenegraph”**\n",
    "* These JSON objects are converted into Backbone objects in the browser\n",
    "\n",
    "### Python Bokeh\n",
    "* Python module that can generate Bokeh JSON to be used by BokehJS\n",
    "* Exposing a set of “model” classes that exactly mirror the set of BackboneJS models in the browser\n",
    "\n",
    "### `bokeh.models` foundation\n",
    "* Provides complete control over scenegraph construction\n",
    "* No help assembling models in meaningful or correct ways\n",
    "* Up to developers to build the scenegraph “by hand”\n",
    "* Typical: prefer `bokeh.plotting` or `bokeh.charts` higher level interfaces"
   ]
  },
  {
   "cell_type": "markdown",
   "metadata": {},
   "source": [
    "#### property assignment during model creation\n",
    "```python\n",
    "glyph = Rect(x=\"x\", y=\"y2\", w=10, h=20,\n",
    "             fill_alpha=0.5, fill_color=\"navy\", line_color=None)\n",
    "```\n",
    "\n",
    "#### property assignment on existing model\n",
    "```python\n",
    "glyph.fill_alpha = 0.5\n",
    "glyph.fill_color = \"navy\"\n",
    "```"
   ]
  },
  {
   "cell_type": "markdown",
   "metadata": {},
   "source": [
    "### Standard imports "
   ]
  },
  {
   "cell_type": "code",
   "execution_count": null,
   "metadata": {
    "collapsed": false
   },
   "outputs": [],
   "source": [
    "from bokeh.io import output_notebook, show\n",
    "output_notebook()"
   ]
  },
  {
   "cell_type": "markdown",
   "metadata": {},
   "source": [
    "5.2 Plot Pandas DataFrames with `bokeh.charts`\n",
    "----------------------------------------------"
   ]
  },
  {
   "cell_type": "code",
   "execution_count": null,
   "metadata": {
    "collapsed": true
   },
   "outputs": [],
   "source": [
    "import pandas as pd\n",
    "\n",
    "pd.options.display.max_rows = 8"
   ]
  },
  {
   "cell_type": "code",
   "execution_count": null,
   "metadata": {
    "collapsed": false
   },
   "outputs": [],
   "source": [
    "from bokeh.sampledata.iris    import flowers\n",
    "from bokeh.sampledata.autompg import autompg"
   ]
  },
  {
   "cell_type": "code",
   "execution_count": null,
   "metadata": {
    "collapsed": false
   },
   "outputs": [],
   "source": [
    "flowers"
   ]
  },
  {
   "cell_type": "code",
   "execution_count": null,
   "metadata": {
    "collapsed": false
   },
   "outputs": [],
   "source": [
    "autompg"
   ]
  },
  {
   "cell_type": "code",
   "execution_count": null,
   "metadata": {
    "collapsed": true
   },
   "outputs": [],
   "source": [
    "from bokeh.charts import Histogram, Scatter, BoxPlot, Bar, HeatMap, bins"
   ]
  },
  {
   "cell_type": "code",
   "execution_count": null,
   "metadata": {
    "collapsed": false
   },
   "outputs": [],
   "source": [
    "flowers_hp = Histogram(flowers, values=\"petal_length\", color=\"species\", \n",
    "                       legend=\"top_right\", bins=12, width=800, height=400)\n",
    "\n",
    "show(flowers_hp)"
   ]
  },
  {
   "cell_type": "code",
   "execution_count": null,
   "metadata": {
    "collapsed": false
   },
   "outputs": [],
   "source": [
    "flowers_sp = Scatter(flowers, x='petal_length', y='sepal_length', color='species', width=800, height=400)\n",
    "show(flowers_sp)"
   ]
  },
  {
   "cell_type": "code",
   "execution_count": null,
   "metadata": {
    "collapsed": false
   },
   "outputs": [],
   "source": [
    "autompg_bp = Bar(autompg, label='cyl', values='mpg', agg='max', title=\"Max MPG by CYL\",\n",
    "                 legend=None, width=800, height=400)\n",
    "show(autompg_bp)"
   ]
  },
  {
   "cell_type": "code",
   "execution_count": null,
   "metadata": {
    "collapsed": false,
    "scrolled": true
   },
   "outputs": [],
   "source": [
    "autompg_bp = Bar(autompg, label='yr', values='mpg', agg='mean', title=\"Mean MPG per year\",\n",
    "                 color='blue', legend=None, width=800, height=400)\n",
    "show(autompg_bp)"
   ]
  },
  {
   "cell_type": "code",
   "execution_count": null,
   "metadata": {
    "collapsed": false
   },
   "outputs": [],
   "source": [
    "flowers_bp = BoxPlot(flowers, label='species', values='petal_width', color='species',\n",
    "                     width=800, height=400, xlabel='', ylabel='petal width, mm',\n",
    "                     title='Distributions of petal widths')\n",
    "show(flowers_bp)"
   ]
  },
  {
   "cell_type": "code",
   "execution_count": null,
   "metadata": {
    "collapsed": false
   },
   "outputs": [],
   "source": [
    "from pandas import options, read_csv\n",
    "\n",
    "fuel = read_csv('../data/fueleconomy/vehicles.csv')\n",
    "\n",
    "fuel_sp = Scatter(fuel.ix[fuel.model == 'A6 quattro'], x='year', y='highway08', color='displ', width=800, height=400)\n",
    "\n",
    "show(fuel_sp)"
   ]
  },
  {
   "cell_type": "code",
   "execution_count": null,
   "metadata": {
    "collapsed": false,
    "scrolled": true
   },
   "outputs": [],
   "source": [
    "autompg.dropna(subset='mpg displ'.split(), inplace=True, how='any')\n",
    "autompg_hp = HeatMap(autompg,\n",
    "                     x=bins('mpg'), y=bins('displ'), \n",
    "                     legend=None, width=800,\n",
    "                     height=400)\n",
    "\n",
    "show(autompg_hp)"
   ]
  },
  {
   "cell_type": "markdown",
   "metadata": {},
   "source": [
    "5.3 Manage plot construction with `bokeh.plotting`\n",
    "--------------------------------------------------"
   ]
  },
  {
   "cell_type": "code",
   "execution_count": null,
   "metadata": {
    "collapsed": true
   },
   "outputs": [],
   "source": [
    "from bokeh.io import output_notebook, show\n",
    "from bokeh.plotting import figure"
   ]
  },
  {
   "cell_type": "code",
   "execution_count": null,
   "metadata": {
    "collapsed": false
   },
   "outputs": [],
   "source": [
    "# create a new plot with default tools, using figure\n",
    "p = figure(plot_width=800, plot_height=400)\n",
    "\n",
    "# add a circle renderer with a size, color, and alpha\n",
    "p.circle([1, 2, 3, 4, 5], [6, 7, 2, 4, 5], size=15, line_color=\"navy\", fill_color=\"orange\", fill_alpha=0.5)\n",
    "\n",
    "show(p) # show the results"
   ]
  },
  {
   "cell_type": "code",
   "execution_count": null,
   "metadata": {
    "collapsed": false
   },
   "outputs": [],
   "source": [
    "# create a new plot using figure\n",
    "p = figure(plot_width=800, plot_height=400)\n",
    "\n",
    "# add a square renderer with a size, color, alpha, and sizes\n",
    "p.square([1, 2, 3, 4, 5], \n",
    "         [6, 7, 2, 4, 5], \n",
    "         size=[10, 15, 20, 25, 30], \n",
    "         color=\"firebrick\", alpha=0.6)\n",
    "\n",
    "show(p) # show the results"
   ]
  },
  {
   "cell_type": "markdown",
   "metadata": {},
   "source": [
    "<table class=\"hlist\" style=\"float:left\"><tr><td><ul>\n",
    "<li><a href=\"http://bokeh.pydata.org/en/latest/docs/reference/plotting.html#bokeh.plotting.Figure.asterisk\" title=\"bokeh.plotting.Figure.asterisk\"><code class=\"xref py py-func docutils literal\"><span class=\"pre\">asterisk()</span></code></a></li>\n",
    "<li><a href=\"http://bokeh.pydata.org/en/latest/docs/reference/plotting.html#bokeh.plotting.Figure.circle\" title=\"bokeh.plotting.Figure.circle\"><code class=\"xref py py-func docutils literal\"><span class=\"pre\">circle()</span></code></a></li>\n",
    "<li><a href=\"http://bokeh.pydata.org/en/latest/docs/reference/plotting.html#bokeh.plotting.Figure.circle_cross\" title=\"bokeh.plotting.Figure.circle_cross\"><code class=\"xref py py-func docutils literal\"><span class=\"pre\">circle_cross()</span></code></a></li>\n",
    "<li><a href=\"http://bokeh.pydata.org/en/latest/docs/reference/plotting.html#bokeh.plotting.Figure.circle_x\" title=\"bokeh.plotting.Figure.circle_x\"><code class=\"xref py py-func docutils literal\"><span class=\"pre\">circle_x()</span></code></a></li>\n",
    "<li><a href=\"http://bokeh.pydata.org/en/latest/docs/reference/plotting.html#bokeh.plotting.Figure.cross\" title=\"bokeh.plotting.Figure.cross\"><code class=\"xref py py-func docutils literal\"><span class=\"pre\">cross()</span></code></a></li>\n",
    "</ul>\n",
    "</td><td><ul>\n",
    "<li><a href=\"http://bokeh.pydata.org/en/latest/docs/reference/plotting.html#bokeh.plotting.Figure.diamond\" title=\"bokeh.plotting.Figure.diamond\"><code class=\"xref py py-func docutils literal\"><span class=\"pre\">diamond()</span></code></a></li>\n",
    "<li><a href=\"http://bokeh.pydata.org/en/latest/docs/reference/plotting.html#bokeh.plotting.Figure.diamond_cross\" title=\"bokeh.plotting.Figure.diamond_cross\"><code class=\"xref py py-func docutils literal\"><span class=\"pre\">diamond_cross()</span></code></a></li>\n",
    "<li><a href=\"http://bokeh.pydata.org/en/latest/docs/reference/plotting.html#bokeh.plotting.Figure.inverted_triangle\" title=\"bokeh.plotting.Figure.inverted_triangle\"><code class=\"xref py py-func docutils literal\"><span class=\"pre\">inverted_triangle()</span></code></a></li>\n",
    "<li><a href=\"http://bokeh.pydata.org/en/latest/docs/reference/plotting.html#bokeh.plotting.Figure.square\" title=\"bokeh.plotting.Figure.square\"><code class=\"xref py py-func docutils literal\"><span class=\"pre\">square()</span></code></a></li>\n",
    "</ul>\n",
    "</td><td><ul>\n",
    "<li><a href=\"http://bokeh.pydata.org/en/latest/docs/reference/plotting.html#bokeh.plotting.Figure.square_cross\" title=\"bokeh.plotting.Figure.square_cross\"><code class=\"xref py py-func docutils literal\"><span class=\"pre\">square_cross()</span></code></a></li>\n",
    "<li><a href=\"http://bokeh.pydata.org/en/latest/docs/reference/plotting.html#bokeh.plotting.Figure.square_x\" title=\"bokeh.plotting.Figure.square_x\"><code class=\"xref py py-func docutils literal\"><span class=\"pre\">square_x()</span></code></a></li>\n",
    "<li><a href=\"http://bokeh.pydata.org/en/latest/docs/reference/plotting.html#bokeh.plotting.Figure.triangle\" title=\"bokeh.plotting.Figure.triangle\"><code class=\"xref py py-func docutils literal\"><span class=\"pre\">triangle()</span></code></a></li>\n",
    "<li><a href=\"http://bokeh.pydata.org/en/latest/docs/reference/plotting.html#bokeh.plotting.Figure.x\" title=\"bokeh.plotting.Figure.x\"><code class=\"xref py py-func docutils literal\"><span class=\"pre\">x()</span></code></a></li>\n",
    "</ul>\n",
    "</td></tr></table>"
   ]
  },
  {
   "cell_type": "code",
   "execution_count": null,
   "metadata": {
    "collapsed": false
   },
   "outputs": [],
   "source": [
    "# create a new plot (with a title) using figure\n",
    "p = figure(plot_width=800, plot_height=400, title=\"My Line Plot\")\n",
    "\n",
    "# add a line renderer\n",
    "p.line([1, 2, 3, 4, 5], [6, 7, 2, 4, 5], line_width=2)\n",
    "\n",
    "show(p) # show the results"
   ]
  },
  {
   "cell_type": "code",
   "execution_count": null,
   "metadata": {
    "collapsed": false
   },
   "outputs": [],
   "source": [
    "# set up some data\n",
    "x = [1, 2, 3, 4, 5]\n",
    "y = [6, 7, 8, 7, 3]\n",
    "\n",
    "# create a new plot with figure\n",
    "p = figure(plot_width=800, plot_height=400)\n",
    "\n",
    "# add both a line and circles on the same plot\n",
    "p.line(x, y, line_width=2)\n",
    "p.circle(x, y, fill_color=\"brown\", size=8)\n",
    "\n",
    "show(p) # show the results"
   ]
  },
  {
   "cell_type": "markdown",
   "metadata": {},
   "source": [
    "### ColumnDataSource"
   ]
  },
  {
   "cell_type": "code",
   "execution_count": null,
   "metadata": {
    "collapsed": true
   },
   "outputs": [],
   "source": [
    "from bokeh.models import ColumnDataSource"
   ]
  },
  {
   "cell_type": "code",
   "execution_count": null,
   "metadata": {
    "collapsed": false
   },
   "outputs": [],
   "source": [
    "cds = ColumnDataSource(data={\n",
    "    'baz' : [1, 2, 3, 4, 5],\n",
    "    'qux' : [3, 7, 8, 5, 1],\n",
    "    'flob': 'red green silver blue brown'.split()\n",
    "})"
   ]
  },
  {
   "cell_type": "code",
   "execution_count": null,
   "metadata": {
    "collapsed": false
   },
   "outputs": [],
   "source": [
    "p = figure(width=800, height=400)\n",
    "p.circle(x='baz', y='qux', size=20, source=cds)\n",
    "p.xaxis.axis_label = 'baz'\n",
    "p.yaxis.axis_label = 'qux'\n",
    "show(p)"
   ]
  },
  {
   "cell_type": "code",
   "execution_count": null,
   "metadata": {
    "collapsed": false
   },
   "outputs": [],
   "source": [
    "p = figure(width=800, height=400)\n",
    "p.circle(x='baz', y='qux', color='flob', size=20, source=cds)\n",
    "p.xaxis.axis_label = 'baz'\n",
    "p.yaxis.axis_label = 'qux'\n",
    "show(p)"
   ]
  },
  {
   "cell_type": "code",
   "execution_count": null,
   "metadata": {
    "collapsed": true
   },
   "outputs": [],
   "source": [
    "from bokeh.sampledata.iris import flowers\n",
    "\n",
    "flowers_cds = ColumnDataSource(flowers)"
   ]
  },
  {
   "cell_type": "code",
   "execution_count": null,
   "metadata": {
    "collapsed": false
   },
   "outputs": [],
   "source": [
    "flowers.species.unique()"
   ]
  },
  {
   "cell_type": "code",
   "execution_count": null,
   "metadata": {
    "collapsed": true
   },
   "outputs": [],
   "source": [
    "cmap = dict(zip(flowers.species.unique(), 'red green blue'.split()))"
   ]
  },
  {
   "cell_type": "code",
   "execution_count": null,
   "metadata": {
    "collapsed": false
   },
   "outputs": [],
   "source": [
    "colors = [cmap[s] for s in flowers.species]"
   ]
  },
  {
   "cell_type": "code",
   "execution_count": null,
   "metadata": {
    "collapsed": false
   },
   "outputs": [],
   "source": [
    "p = figure(width=800, height=400)\n",
    "p.circle('petal_length', 'petal_width', color=colors, size=10, alpha=0.3, source=flowers_cds)\n",
    "p.xaxis.axis_label = 'petal_length'\n",
    "p.yaxis.axis_label = 'petal_width'\n",
    "show(p)"
   ]
  },
  {
   "cell_type": "markdown",
   "metadata": {},
   "source": [
    "### HoverTool"
   ]
  },
  {
   "cell_type": "code",
   "execution_count": null,
   "metadata": {
    "collapsed": true
   },
   "outputs": [],
   "source": [
    "from bokeh.models import HoverTool\n",
    "\n",
    "hover = HoverTool(\n",
    "        tooltips=[\n",
    "            (\"species\", \"@species\"),\n",
    "            (\"petal\", \"@petal_length, @petal_width\"),\n",
    "            (\"sepal\", \"@sepal_length, @sepal_width\"),\n",
    "        ]\n",
    "    )"
   ]
  },
  {
   "cell_type": "code",
   "execution_count": null,
   "metadata": {
    "collapsed": false
   },
   "outputs": [],
   "source": [
    "p = figure(tools=[hover], width=800, height=400)\n",
    "p.circle('petal_length', 'petal_width', color=colors, source=flowers_cds, size=10, alpha=0.3)\n",
    "p.title.text = 'Iris petals'\n",
    "p.xaxis.axis_label = 'length'\n",
    "p.yaxis.axis_label = 'width'\n",
    "show(p)"
   ]
  },
  {
   "cell_type": "code",
   "execution_count": null,
   "metadata": {
    "collapsed": true
   },
   "outputs": [],
   "source": [
    "from bokeh.models import HoverTool, ColumnDataSource\n",
    "from bokeh.io import output_notebook, show\n",
    "from bokeh.plotting import figure\n",
    "from bokeh.sampledata.autompg import autompg"
   ]
  },
  {
   "cell_type": "code",
   "execution_count": null,
   "metadata": {
    "collapsed": false
   },
   "outputs": [],
   "source": [
    "hover = HoverTool(\n",
    "        tooltips=[\n",
    "            (\"Vehicle\", \"@name, 19@yr\"),\n",
    "            (\"MPG\", \"@mpg\"),\n",
    "            (\"Engine\", \"@displ cu in @cyl cylinder @hp HP\"),\n",
    "        ]\n",
    "    )"
   ]
  },
  {
   "cell_type": "code",
   "execution_count": null,
   "metadata": {
    "collapsed": false
   },
   "outputs": [],
   "source": [
    "p = figure(tools=[hover], width=800, height=400)\n",
    "\n",
    "p.circle('mpg', 'weight', color='red',   legend='American', size=10, alpha=0.3, \n",
    "         source=ColumnDataSource(autompg[autompg.origin == 1]))\n",
    "p.circle('mpg', 'weight', color='green', legend='European', size=10, alpha=0.3, \n",
    "         source=ColumnDataSource(autompg[autompg.origin == 2]))\n",
    "p.circle('mpg', 'weight', color='blue',  legend='Asian',    size=10, alpha=0.3, \n",
    "         source=ColumnDataSource(autompg[autompg.origin == 3]))\n",
    "p.title.text = 'Vehicle Fuel Efficiency, 1970-1982'\n",
    "p.xaxis.axis_label = 'MPG'\n",
    "p.yaxis.axis_label = 'weight (lbs)'\n",
    "show(p)"
   ]
  },
  {
   "cell_type": "markdown",
   "metadata": {},
   "source": [
    "### Examples and inspiration\n",
    "\n",
    "* [Bokeh Gallery](http://bokeh.pydata.org/en/latest/docs/gallery.html)\n",
    "* [Bokeh Examples (GitHub)](https://github.com/bokeh/bokeh/tree/master/examples)\n",
    "* [Bokeh Notebooks](https://github.com/bokeh/bokeh-notebooks)"
   ]
  },
  {
   "cell_type": "markdown",
   "metadata": {},
   "source": [
    "5.4 Use widgets and plot linking for interactivity\n",
    "--------------------------------------------------"
   ]
  },
  {
   "cell_type": "code",
   "execution_count": null,
   "metadata": {
    "collapsed": true
   },
   "outputs": [],
   "source": [
    "from bokeh.layouts import gridplot"
   ]
  },
  {
   "cell_type": "code",
   "execution_count": null,
   "metadata": {
    "collapsed": true
   },
   "outputs": [],
   "source": [
    "plot_options = dict(width=250, plot_height=250, tools='pan,wheel_zoom,reset')"
   ]
  },
  {
   "cell_type": "code",
   "execution_count": null,
   "metadata": {
    "collapsed": true
   },
   "outputs": [],
   "source": [
    "x = list(range(11))\n",
    "y0, y1, y2 = x, [10-i for i in x], [abs(i-5) for i in x]"
   ]
  },
  {
   "cell_type": "code",
   "execution_count": null,
   "metadata": {
    "collapsed": false
   },
   "outputs": [],
   "source": [
    "# create a new plot\n",
    "s1 = figure(**plot_options)\n",
    "s1.circle(x, y0, size=10, color=\"navy\")"
   ]
  },
  {
   "cell_type": "code",
   "execution_count": null,
   "metadata": {
    "collapsed": false
   },
   "outputs": [],
   "source": [
    "# create a new plot and share both ranges\n",
    "s2 = figure(x_range=s1.x_range, y_range=s1.y_range, **plot_options)\n",
    "s2.triangle(x, y1, size=10, color=\"firebrick\")"
   ]
  },
  {
   "cell_type": "code",
   "execution_count": null,
   "metadata": {
    "collapsed": false
   },
   "outputs": [],
   "source": [
    "# create a new plot and share only one range\n",
    "s3 = figure(x_range=s1.x_range, **plot_options)\n",
    "s3.square(x, y2, size=10, color=\"olive\")"
   ]
  },
  {
   "cell_type": "code",
   "execution_count": null,
   "metadata": {
    "collapsed": false
   },
   "outputs": [],
   "source": [
    "p = gridplot([[s1, s2, s3]])\n",
    "\n",
    "# show the results\n",
    "show(p)"
   ]
  },
  {
   "cell_type": "code",
   "execution_count": null,
   "metadata": {
    "collapsed": true
   },
   "outputs": [],
   "source": [
    "# lasso_select, reset\n",
    "TOOLS = \"box_select\""
   ]
  },
  {
   "cell_type": "code",
   "execution_count": null,
   "metadata": {
    "collapsed": false
   },
   "outputs": [],
   "source": [
    "flowers.columns"
   ]
  },
  {
   "cell_type": "code",
   "execution_count": null,
   "metadata": {
    "collapsed": false
   },
   "outputs": [],
   "source": [
    "# create a new plot and add a renderer\n",
    "left = figure(tools=TOOLS, width=400, height=300)\n",
    "left.title.text = 'sepal length vs. width'\n",
    "left.circle('sepal_width', 'sepal_length', source=flowers_cds)"
   ]
  },
  {
   "cell_type": "code",
   "execution_count": null,
   "metadata": {
    "collapsed": false
   },
   "outputs": [],
   "source": [
    "# create another new plot and add a renderer\n",
    "right = figure(tools=TOOLS, width=400, height=300)\n",
    "right.title.text = 'petal length vs. width'\n",
    "right.circle('petal_width', 'petal_length', source=flowers_cds)"
   ]
  },
  {
   "cell_type": "markdown",
   "metadata": {},
   "source": [
    "**NOTE:** The linked selection effect in the following cell is due to the two plots having a shared `ColumnDataSource`."
   ]
  },
  {
   "cell_type": "code",
   "execution_count": null,
   "metadata": {
    "collapsed": false,
    "scrolled": true
   },
   "outputs": [],
   "source": [
    "p = gridplot([[left, right]])\n",
    "\n",
    "show(p)"
   ]
  },
  {
   "cell_type": "code",
   "execution_count": null,
   "metadata": {
    "collapsed": false
   },
   "outputs": [],
   "source": [
    "autompg.columns"
   ]
  },
  {
   "cell_type": "code",
   "execution_count": null,
   "metadata": {
    "collapsed": true
   },
   "outputs": [],
   "source": [
    "autompg_cds = ColumnDataSource(autompg)\n",
    "tips = [\n",
    "            (\"Vehicle\", \"@name, 19@yr\"),\n",
    "            (\"MPG\", \"@mpg\"),\n",
    "            (\"Engine\", \"@displ cu in @cyl cylinder @hp HP\"),\n",
    "        ]\n",
    "TOOLS= 'lasso_select box_select reset'.split()"
   ]
  },
  {
   "cell_type": "code",
   "execution_count": null,
   "metadata": {
    "collapsed": false
   },
   "outputs": [],
   "source": [
    "hover1 = HoverTool(tooltips=tips)\n",
    "\n",
    "left = figure(tools=[hover1, *TOOLS], width=300, height=400)\n",
    "\n",
    "left.circle('weight', 'mpg', source=autompg_cds,\n",
    "            color='red', size=10, alpha=0.3, )\n",
    "left.xaxis.axis_label = 'weight (lbs)'\n",
    "left.yaxis.axis_label = 'MPG'"
   ]
  },
  {
   "cell_type": "code",
   "execution_count": null,
   "metadata": {
    "collapsed": true
   },
   "outputs": [],
   "source": [
    "hover2 = HoverTool(tooltips=tips)\n",
    "\n",
    "middle = figure(tools=[hover2, *TOOLS], width=300, height=400)\n",
    "\n",
    "middle.circle('weight', 'accel', source=autompg_cds,\n",
    "              color='green', size=10, alpha=0.3) \n",
    "middle.xaxis.axis_label = 'weight (lbs)'\n",
    "middle.yaxis.axis_label = 'acceleration (0-60 MPH)'"
   ]
  },
  {
   "cell_type": "code",
   "execution_count": null,
   "metadata": {
    "collapsed": true
   },
   "outputs": [],
   "source": [
    "hover3 = HoverTool(tooltips=tips)\n",
    "\n",
    "right = figure(tools=[hover3, *TOOLS], width=300, height=400)\n",
    "\n",
    "right.circle('displ', 'hp', source=autompg_cds,\n",
    "              color='blue', size=10, alpha=0.3) \n",
    "right.xaxis.axis_label = 'displacement (cu. in.)'\n",
    "right.yaxis.axis_label = 'HP'"
   ]
  },
  {
   "cell_type": "code",
   "execution_count": null,
   "metadata": {
    "collapsed": false
   },
   "outputs": [],
   "source": [
    "p = gridplot([[left, middle, right]])\n",
    "show(p)"
   ]
  },
  {
   "cell_type": "markdown",
   "metadata": {},
   "source": [
    "### Interactive Widgets\n",
    "\n",
    "**NOTE:** Some users have problems with this next example in the most recent versions of Bokeh"
   ]
  },
  {
   "cell_type": "code",
   "execution_count": null,
   "metadata": {
    "collapsed": false
   },
   "outputs": [],
   "source": [
    "import numpy as np\n",
    "from bokeh.io import push_notebook\n",
    "\n",
    "x = np.linspace(0, 2*np.pi, 2000)\n",
    "y = np.sin(x)\n",
    "\n",
    "source = ColumnDataSource(data=dict(x=x, y=y))\n",
    "\n",
    "p = figure(title=\"simple line example\", plot_height=300, plot_width=600, y_range=(-5, 5))\n",
    "p.line(x, y, color=\"#2222aa\", alpha=0.5, line_width=2, source=source, name=\"foo\")\n",
    "\n",
    "def update(f, w=1, A=1, phi=0):\n",
    "    if   f == \"sin\": func = np.sin\n",
    "    elif f == \"cos\": func = np.cos\n",
    "    elif f == \"tan\": func = np.tan\n",
    "    source.data['y'] = A * func(w * x + phi)\n",
    "    push_notebook()\n",
    "    \n",
    "show(p, notebook_handle=True)"
   ]
  },
  {
   "cell_type": "code",
   "execution_count": null,
   "metadata": {
    "collapsed": false
   },
   "outputs": [],
   "source": [
    "from ipywidgets import interact\n",
    "interact(update, f=[\"sin\", \"cos\", \"tan\"], w=(0,10, 0.1), A=(0,5, 0.1), phi=(0, 10, 0.1))"
   ]
  },
  {
   "cell_type": "code",
   "execution_count": null,
   "metadata": {
    "collapsed": false
   },
   "outputs": [],
   "source": [
    "output_notebook()"
   ]
  },
  {
   "cell_type": "code",
   "execution_count": null,
   "metadata": {
    "collapsed": true
   },
   "outputs": [],
   "source": [
    "from bokeh.layouts import column\n",
    "from bokeh.models import CustomJS, ColumnDataSource, Slider"
   ]
  },
  {
   "cell_type": "code",
   "execution_count": null,
   "metadata": {
    "collapsed": true
   },
   "outputs": [],
   "source": [
    "x = [x*0.005 for x in range(0, 200)]\n",
    "y = x # initial function f(x) = x"
   ]
  },
  {
   "cell_type": "code",
   "execution_count": null,
   "metadata": {
    "collapsed": false
   },
   "outputs": [],
   "source": [
    "source = ColumnDataSource(data=dict(x=x, y=y))\n",
    "\n",
    "plot = figure(plot_width=800, plot_height=400)\n",
    "plot.line('x', 'y', source=source, line_width=3, line_alpha=0.6)"
   ]
  },
  {
   "cell_type": "code",
   "execution_count": null,
   "metadata": {
    "collapsed": true
   },
   "outputs": [],
   "source": [
    "callback = CustomJS(args=dict(source=source), code=\"\"\"\n",
    "    var data = source.get('data');\n",
    "    var f = cb_obj.get('value')\n",
    "    x = data['x']\n",
    "    y = data['y']\n",
    "    for (i = 0; i < x.length; i++) {\n",
    "        y[i] = Math.pow(x[i], f)\n",
    "    }\n",
    "    source.trigger('change');\n",
    "\"\"\")"
   ]
  },
  {
   "cell_type": "code",
   "execution_count": null,
   "metadata": {
    "collapsed": false,
    "scrolled": true
   },
   "outputs": [],
   "source": [
    "slider = Slider(start=0.1, end=4, value=1, step=.1, title=\"power\", callback=callback)\n",
    "\n",
    "layout = column(slider, plot)\n",
    "\n",
    "show(layout)"
   ]
  },
  {
   "cell_type": "code",
   "execution_count": null,
   "metadata": {
    "collapsed": true
   },
   "outputs": [],
   "source": [
    "from random import random\n",
    "\n",
    "x = [random() for x in range(500)]\n",
    "y = [random() for y in range(500)]\n",
    "color = [\"navy\"] * len(x)"
   ]
  },
  {
   "cell_type": "code",
   "execution_count": null,
   "metadata": {
    "collapsed": false
   },
   "outputs": [],
   "source": [
    "s = ColumnDataSource(data=dict(x=x, y=y, color=color))\n",
    "p = figure(plot_width=400, plot_height=400, tools=\"lasso_select\", title=\"Select Here\")\n",
    "p.circle('x', 'y', color='color', size=8, source=s, alpha=0.4)"
   ]
  },
  {
   "cell_type": "code",
   "execution_count": null,
   "metadata": {
    "collapsed": false
   },
   "outputs": [],
   "source": [
    "s2 = ColumnDataSource(data=dict(ym=[0.5, 0.5]))\n",
    "p.line(x=[0,1], y='ym', color=\"orange\", line_width=5, alpha=0.6, source=s2)"
   ]
  },
  {
   "cell_type": "code",
   "execution_count": null,
   "metadata": {
    "collapsed": true
   },
   "outputs": [],
   "source": [
    "s.callback = CustomJS(args=dict(s2=s2), code=\"\"\"\n",
    "    var inds = cb_obj.get('selected')['1d'].indices;\n",
    "    var d = cb_obj.get('data');\n",
    "    var ym = 0\n",
    "    \n",
    "    if (inds.length == 0) { return; }\n",
    "    \n",
    "    for (i = 0; i < d['color'].length; i++) {\n",
    "        d['color'][i] = \"navy\"\n",
    "    }\n",
    "    for (i = 0; i < inds.length; i++) {\n",
    "        d['color'][inds[i]] = \"firebrick\"\n",
    "        ym += d['y'][inds[i]]\n",
    "    }\n",
    "    \n",
    "    ym /= inds.length\n",
    "    s2.get('data')['ym'] = [ym, ym]\n",
    "    \n",
    "    cb_obj.trigger('change');\n",
    "    s2.trigger('change');\n",
    "\"\"\")"
   ]
  },
  {
   "cell_type": "code",
   "execution_count": null,
   "metadata": {
    "collapsed": false
   },
   "outputs": [],
   "source": [
    "show(p)"
   ]
  },
  {
   "cell_type": "markdown",
   "metadata": {},
   "source": [
    "5.5 Create web plots\n",
    "--------------------"
   ]
  },
  {
   "cell_type": "code",
   "execution_count": null,
   "metadata": {
    "collapsed": false
   },
   "outputs": [],
   "source": [
    "from bokeh.models import HoverTool, ColumnDataSource\n",
    "from bokeh.io import output_file, show, save\n",
    "from bokeh.plotting import figure\n",
    "from bokeh.sampledata.autompg import autompg\n",
    "\n",
    "hover = HoverTool(\n",
    "        tooltips=[\n",
    "            (\"Vehicle\", \"@name, 19@yr\"),\n",
    "            (\"MPG\", \"@mpg\"),\n",
    "            (\"Engine\", \"@displ cu in @cyl cylinder @hp HP\"),\n",
    "        ]\n",
    "    )\n",
    "\n",
    "p = figure(tools=[hover, 'box_zoom', 'wheel_zoom', 'pan', 'reset', 'save'], width=800, height=400)\n",
    "\n",
    "p.circle('weight', 'mpg', color='red',   legend='American', size=10, alpha=0.3, \n",
    "         source=ColumnDataSource(autompg[autompg.origin == 1]))\n",
    "p.circle('weight', 'mpg', color='green', legend='European', size=10, alpha=0.3, \n",
    "         source=ColumnDataSource(autompg[autompg.origin == 2]))\n",
    "p.circle('weight', 'mpg', color='blue',  legend='Asian',    size=10, alpha=0.3, \n",
    "         source=ColumnDataSource(autompg[autompg.origin == 3]))\n",
    "\n",
    "p.title.text = 'Vehicle Fuel Efficiency, 1970-1982'\n",
    "p.xaxis.axis_label = 'weight (lbs)'\n",
    "p.yaxis.axis_label = 'MPG'"
   ]
  },
  {
   "cell_type": "code",
   "execution_count": null,
   "metadata": {
    "collapsed": true
   },
   "outputs": [],
   "source": [
    "p.x_range.bounds = 'auto'\n",
    "p.y_range.bounds = 'auto'"
   ]
  },
  {
   "cell_type": "code",
   "execution_count": null,
   "metadata": {
    "collapsed": false,
    "scrolled": true
   },
   "outputs": [],
   "source": [
    "save(p, 'autompg.html')"
   ]
  },
  {
   "cell_type": "markdown",
   "metadata": {},
   "source": [
    "5.6 Create data apps using Bokeh Server\n",
    "---------------------------------------"
   ]
  },
  {
   "cell_type": "code",
   "execution_count": null,
   "metadata": {
    "collapsed": true
   },
   "outputs": [],
   "source": [
    "# app.py\n",
    "'''\n",
    "bokeh serve --show app.py\n",
    "'''\n",
    "from numpy.random import random\n",
    "\n",
    "from bokeh.io import curdoc\n",
    "from bokeh.layouts import column, row\n",
    "from bokeh.plotting import ColumnDataSource, Figure\n",
    "from bokeh.models.widgets import Select, TextInput\n",
    "\n",
    "\n",
    "def get_data(N):\n",
    "    return dict(x=random(size=N), y=random(size=N), r=random(size=N) * 0.03)\n",
    "\n",
    "\n",
    "source = ColumnDataSource(data=get_data(200))\n",
    "\n",
    "\n",
    "p = Figure(tools=\"\", toolbar_location=None)\n",
    "r = p.circle(x='x', y='y', radius='r', source=source,\n",
    "             color=\"navy\", alpha=0.6, line_color=\"white\")\n",
    "\n",
    "\n",
    "COLORS = [\"black\", \"firebrick\", \"navy\", \"olive\", \"goldenrod\"]\n",
    "select = Select(title=\"Color\", value=\"navy\", options=COLORS)\n",
    "input  = TextInput(title=\"Number of points\", value=\"200\")\n",
    "\n",
    "\n",
    "def update_color(attrname, old, new):\n",
    "    r.glyph.fill_color = select.value\n",
    "select.on_change('value', update_color)\n",
    "\n",
    "def update_points(attrname, old, new):\n",
    "    N = int(input.value)\n",
    "    source.data = get_data(N)\n",
    "input.on_change('value', update_points)\n",
    "\n",
    "\n",
    "layout = column(row(select, input, width=400), row(p))\n",
    "curdoc().add_root(layout)"
   ]
  },
  {
   "cell_type": "markdown",
   "metadata": {},
   "source": [
    "**Streaming Data**"
   ]
  },
  {
   "cell_type": "markdown",
   "metadata": {},
   "source": [
    "To try out the example below, copy the code into a file ``stream.py`` and then execute:\n",
    "```bash\n",
    "bokeh serve --show stream.py\n",
    "```"
   ]
  },
  {
   "cell_type": "code",
   "execution_count": null,
   "metadata": {
    "collapsed": true
   },
   "outputs": [],
   "source": [
    "# stream.py\n",
    "'''\n",
    "bokeh serve --show stream.py\n",
    "'''\n",
    "from math import cos, sin\n",
    "\n",
    "from bokeh.io import curdoc\n",
    "from bokeh.models import ColumnDataSource\n",
    "from bokeh.plotting import figure\n",
    "\n",
    "p = figure(x_range=(-1.1, 1.1), y_range=(-1.1, 1.1))\n",
    "p.circle(x=0, y=0, radius=1, fill_color=None, line_width=2)\n",
    "\n",
    "# this is the data source we will stream to\n",
    "source = ColumnDataSource(data=dict(x=[1], y=[0]))\n",
    "p.circle(x='x', y='y', size=12, fill_color='white', source=source)\n",
    "\n",
    "def update():\n",
    "    x, y = source.data['x'][-1], source.data['y'][-1]\n",
    "  \n",
    "    # construct the new values for all columns, and pass to stream\n",
    "    new_data = dict(x=[x*cos(0.1) - y*sin(0.1)], y=[x*sin(0.1) + y*cos(0.1)])\n",
    "    source.stream(new_data, rollover=8)\n",
    "\n",
    "curdoc().add_periodic_callback(update, 150)\n",
    "curdoc().add_root(p)"
   ]
  },
  {
   "cell_type": "markdown",
   "metadata": {},
   "source": [
    "There are more examples available at https://demo.bokehplots.com/\n",
    "\n",
    "* [Stocks](https://github.com/bokeh/bokeh/blob/master/examples/app/stocks.py)\n",
    "* [Gapminder](https://github.com/bokeh/bokeh/blob/master/examples/app/gapminder)"
   ]
  },
  {
   "cell_type": "code",
   "execution_count": null,
   "metadata": {
    "collapsed": false
   },
   "outputs": [],
   "source": [
    "# Create and deploy interactive data applications\n",
    "\n",
    "from IPython.display import IFrame\n",
    "IFrame('http://demo.bokehplots.com/apps/stocks', width=1100, height=700)"
   ]
  },
  {
   "cell_type": "code",
   "execution_count": null,
   "metadata": {
    "collapsed": false
   },
   "outputs": [],
   "source": [
    "# Create and deploy interactive data applications\n",
    "\n",
    "from IPython.display import IFrame\n",
    "IFrame('http://demo.bokehplots.com/apps/gapminder', width=1100, height=700)"
   ]
  },
  {
   "cell_type": "markdown",
   "metadata": {
    "collapsed": true
   },
   "source": [
    "Go Further\n",
    "----------\n",
    "1. For the first plot, the iris histogram, create a Python script that generates this and writes it to an HTML file.  Now improve the styling on that plot, such as tools, title, and axis labels.\n",
    "2. Use `gridplot` to combine the first several iris plots and write them to an HTML file.  Do the same for the fuel efficiency dataset.\n",
    "3. Go to the [Bokeh Gallery](http://bokeh.pydata.org/en/latest/docs/gallery.html) and pick a few plots that you like the look of.  Read through and understand the code then run them locally.\n",
    "4. Customize the `HoverTool` output for the American/European/Asian fuel efficiency scatter plot."
   ]
  },
  {
   "cell_type": "markdown",
   "metadata": {},
   "source": [
    "Easter Egg\n",
    "----------"
   ]
  },
  {
   "cell_type": "code",
   "execution_count": null,
   "metadata": {
    "collapsed": false
   },
   "outputs": [],
   "source": [
    "import this"
   ]
  }
 ],
 "metadata": {
  "anaconda-cloud": {},
  "kernelspec": {
   "display_name": "Python [default]",
   "language": "python",
   "name": "python3"
  },
  "language_info": {
   "codemirror_mode": {
    "name": "ipython",
    "version": 3
   },
   "file_extension": ".py",
   "mimetype": "text/x-python",
   "name": "python",
   "nbconvert_exporter": "python",
   "pygments_lexer": "ipython3",
   "version": "3.5.2"
  },
  "widgets": {
   "state": {
    "4b14f1eeec374d4a8da0f13d845eecd0": {
     "views": [
      {
       "cell_index": 66
      }
     ]
    }
   },
   "version": "1.2.0"
  }
 },
 "nbformat": 4,
 "nbformat_minor": 1
}
