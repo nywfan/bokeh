{
 "cells": [
  {
   "cell_type": "markdown",
   "metadata": {},
   "source": [
    "Lesson 8 - Build statistical and predictive models\n",
    "==================================================\n",
    "<center>\n",
    "<img src=http://scikit-learn.org/stable/_images/scikit-learn-logo-notext.png />\n",
    "</center>\n",
    "Reference: [Scikit-Learn documentation](http://scikit-learn.org/)"
   ]
  },
  {
   "cell_type": "markdown",
   "metadata": {},
   "source": [
    "8.1 Use Scikit-Learn to create a predictive model\n",
    "-------------------------------------------------"
   ]
  },
  {
   "cell_type": "markdown",
   "metadata": {},
   "source": [
    "For these exercises you'll need to install or update the following packages to the latest versions:\n",
    "\n",
    "* scikit-learn\n",
    "* ggplot\n",
    "\n",
    "This can be done by executing this command:\n",
    "\n",
    "```bash\n",
    "conda install -c conda-forge scikit-learn ggplot\n",
    "```\n",
    "\n",
    "Or the equivalent in Anaconda Navigator: add the two channels `conda-forge` and `datasciencepythonr`, then update indicies and select those three packages."
   ]
  },
  {
   "cell_type": "markdown",
   "metadata": {},
   "source": [
    "### Supervised learning\n",
    "<img src=http://ijstokes-public.s3.amazonaws.com/dspyr/img/supervised_workflow.svg width=50%>"
   ]
  },
  {
   "cell_type": "markdown",
   "metadata": {},
   "source": [
    "### Data representations\n",
    "<img src=\"http://ijstokes-public.s3.amazonaws.com/dspyr/img/data_representation.svg\" width=50%>"
   ]
  },
  {
   "cell_type": "markdown",
   "metadata": {},
   "source": [
    "### Dataset train/test split\n",
    "<img src=\"http://ijstokes-public.s3.amazonaws.com/dspyr/img/train_test_split_matrix.svg\" width=50%>"
   ]
  },
  {
   "cell_type": "markdown",
   "metadata": {},
   "source": [
    "Linear models in scikit-learn are regressors on continuous input data or classifiers on categorical input data.  The [scikit-learn documentation](http://scikit-learn.org/stable/modules/classes.html#module-sklearn.linear_model) has a good overview of the `sklearn.linear_model` package's regressors and classifiers."
   ]
  },
  {
   "cell_type": "markdown",
   "metadata": {},
   "source": [
    "Regression models predict from a linear combination of features and intercept for an input matrix `X` with 1 or more continuous features (columns).\n",
    "\n",
    "$Y = c_0 + c_1 X_1 + c_2 X_2 + ... + c_{n} X_{n} $\n"
   ]
  },
  {
   "cell_type": "code",
   "execution_count": null,
   "metadata": {
    "collapsed": false
   },
   "outputs": [],
   "source": [
    "import numpy as np\n",
    "import matplotlib.pyplot as plt\n",
    "import pandas as pd\n",
    "\n",
    "from bokeh.sampledata.autompg import autompg\n",
    "from sklearn.model_selection  import train_test_split\n",
    "from sklearn.linear_model     import LinearRegression\n",
    "\n",
    "pd.options.display.max_rows = 10"
   ]
  },
  {
   "cell_type": "code",
   "execution_count": null,
   "metadata": {
    "collapsed": true
   },
   "outputs": [],
   "source": [
    "%matplotlib inline"
   ]
  },
  {
   "cell_type": "code",
   "execution_count": null,
   "metadata": {
    "collapsed": false
   },
   "outputs": [],
   "source": [
    "autompg"
   ]
  },
  {
   "cell_type": "code",
   "execution_count": null,
   "metadata": {
    "collapsed": true
   },
   "outputs": [],
   "source": [
    "car_train, car_test = train_test_split(autompg, train_size=0.80, random_state=123)\n",
    "car_train = car_train.copy()\n",
    "car_test  = car_test.copy()"
   ]
  },
  {
   "cell_type": "code",
   "execution_count": null,
   "metadata": {
    "collapsed": false
   },
   "outputs": [],
   "source": [
    "linear_regression = LinearRegression()"
   ]
  },
  {
   "cell_type": "code",
   "execution_count": null,
   "metadata": {
    "collapsed": false
   },
   "outputs": [],
   "source": [
    "linear_regression.fit(car_train['cyl displ hp weight accel yr'.split()],\n",
    "                      car_train[['mpg']])"
   ]
  },
  {
   "cell_type": "markdown",
   "metadata": {},
   "source": [
    "8.2 Generate predictions with a model\n",
    "-------------------------------------"
   ]
  },
  {
   "cell_type": "code",
   "execution_count": null,
   "metadata": {
    "collapsed": false
   },
   "outputs": [],
   "source": [
    "predictions_lg = linear_regression.predict(car_test['cyl displ hp weight accel yr'.split()])\n",
    "predictions_lg[:10]"
   ]
  },
  {
   "cell_type": "code",
   "execution_count": null,
   "metadata": {
    "collapsed": true
   },
   "outputs": [],
   "source": [
    "from sklearn.svm          import SVC                    as support_vector_classifier\n",
    "from sklearn.ensemble     import RandomForestClassifier as random_forest_classifier\n",
    "from sklearn.neighbors    import KNeighborsClassifier   as knn_classifier\n",
    "from sklearn.linear_model import LinearRegression       as linear_regression_classifier"
   ]
  },
  {
   "cell_type": "code",
   "execution_count": null,
   "metadata": {
    "collapsed": false
   },
   "outputs": [],
   "source": [
    "model_rfc = random_forest_classifier(n_estimators=100)\n",
    "model_rfc.fit(car_train['mpg cyl displ hp weight accel yr'.split()],\n",
    "          car_train['origin'].astype(int).values.ravel())"
   ]
  },
  {
   "cell_type": "code",
   "execution_count": null,
   "metadata": {
    "collapsed": false
   },
   "outputs": [],
   "source": [
    "predictions_rfc = model_rfc.predict(car_test['mpg cyl displ hp weight accel yr'.split()])\n",
    "predictions_rfc"
   ]
  },
  {
   "cell_type": "code",
   "execution_count": null,
   "metadata": {
    "collapsed": false
   },
   "outputs": [],
   "source": [
    "# Number incorrect\n",
    "sum(car_test.origin != predictions_rfc)"
   ]
  },
  {
   "cell_type": "code",
   "execution_count": null,
   "metadata": {
    "collapsed": false
   },
   "outputs": [],
   "source": [
    "# Accuracy\n",
    "sum(car_test.origin == predictions_rfc) / len(predictions_rfc)"
   ]
  },
  {
   "cell_type": "markdown",
   "metadata": {},
   "source": [
    "8.3 Score a model\n",
    "-----------------"
   ]
  },
  {
   "cell_type": "code",
   "execution_count": null,
   "metadata": {
    "collapsed": false
   },
   "outputs": [],
   "source": [
    "linear_regression.score(car_train['cyl displ hp weight accel yr'.split()], car_train[['mpg']])"
   ]
  },
  {
   "cell_type": "code",
   "execution_count": null,
   "metadata": {
    "collapsed": false
   },
   "outputs": [],
   "source": [
    "linear_regression.score(car_test['cyl displ hp weight accel yr'.split()], car_test[['mpg']])"
   ]
  },
  {
   "cell_type": "code",
   "execution_count": null,
   "metadata": {
    "collapsed": false
   },
   "outputs": [],
   "source": [
    "from sklearn import datasets, linear_model, model_selection, metrics\n",
    "\n",
    "diabetes_dataset        = datasets.load_diabetes()\n",
    "dd_examples, dd_targets = diabetes_dataset.data, diabetes_dataset.target\n",
    "\n",
    "linreg = linear_model.LinearRegression()"
   ]
  },
  {
   "cell_type": "code",
   "execution_count": null,
   "metadata": {
    "collapsed": false
   },
   "outputs": [],
   "source": [
    "# 10 train/test splits\n",
    "kfold = model_selection.KFold(n_splits=10)\n",
    "\n",
    "for train, test in kfold.split(dd_examples):\n",
    "    \n",
    "    linreg.fit(dd_examples[train], dd_targets[train])\n",
    "    \n",
    "    preds = linreg.predict(dd_examples[test])\n",
    "    \n",
    "    print(linreg.score(dd_examples[test], dd_targets[test]), \n",
    "          metrics.mean_squared_error(preds, dd_targets[test]))"
   ]
  },
  {
   "cell_type": "markdown",
   "metadata": {},
   "source": [
    "There is an easier way, with `cross_validation`, which will do this routine for you."
   ]
  },
  {
   "cell_type": "code",
   "execution_count": null,
   "metadata": {
    "collapsed": false
   },
   "outputs": [],
   "source": [
    "cv_scores = model_selection.cross_val_score(linreg, dd_examples, dd_targets, \n",
    "                                             cv=kfold, \n",
    "                                             scoring='neg_mean_squared_error', \n",
    "                                             n_jobs=-1) # all CPUs\n",
    "print(cv_scores) # neg mean sq error for each train / test split"
   ]
  },
  {
   "cell_type": "markdown",
   "metadata": {},
   "source": [
    "8.4 Visualize model performance\n",
    "-------------------------------"
   ]
  },
  {
   "cell_type": "code",
   "execution_count": null,
   "metadata": {
    "collapsed": false
   },
   "outputs": [],
   "source": [
    "import sys\n",
    "import os\n",
    "\n",
    "import numpy             as np\n",
    "import matplotlib.pyplot as plt\n",
    "import matplotlib        as mpl\n",
    "import pandas            as pd\n",
    "\n",
    "from sklearn.svm             import SVC\n",
    "from sklearn.model_selection import train_test_split"
   ]
  },
  {
   "cell_type": "code",
   "execution_count": null,
   "metadata": {
    "collapsed": true
   },
   "outputs": [],
   "source": [
    "plt.rcParams['image.interpolation'] = \"none\"\n",
    "np.set_printoptions(precision=3)\n",
    "mpl.rcParams['legend.numpoints'] = 1"
   ]
  },
  {
   "cell_type": "code",
   "execution_count": null,
   "metadata": {
    "collapsed": true
   },
   "outputs": [],
   "source": [
    "%matplotlib inline"
   ]
  },
  {
   "cell_type": "code",
   "execution_count": null,
   "metadata": {
    "collapsed": false
   },
   "outputs": [],
   "source": [
    "plt.scatter(car_test.mpg, predictions_lg)"
   ]
  },
  {
   "cell_type": "markdown",
   "metadata": {},
   "source": [
    "**NOTE:** The following two cells will require you to install Andreas Mueller's `mglearn` package using `pip`.  It must be installed into the Conda environment you are using to run this Notebook.  It can be done with the command:\n",
    "\n",
    "```\n",
    "pip install mglearn\n",
    "```\n",
    "\n",
    "Which must be invoked from the command line."
   ]
  },
  {
   "cell_type": "code",
   "execution_count": null,
   "metadata": {
    "collapsed": false
   },
   "outputs": [],
   "source": [
    "import mglearn\n",
    "from mglearn.datasets        import make_blobs \n",
    "\n",
    "X, y = make_blobs(n_samples=(400, 50), centers=2, cluster_std=[7.0, 2], random_state=22)\n",
    "\n",
    "X_train, X_test, y_train, y_test = train_test_split(X, y, random_state=0)\n",
    "\n",
    "svc = SVC(gamma=.05).fit(X_train, y_train)"
   ]
  },
  {
   "cell_type": "code",
   "execution_count": null,
   "metadata": {
    "collapsed": false
   },
   "outputs": [],
   "source": [
    "mglearn.plots.plot_decision_threshold()"
   ]
  },
  {
   "cell_type": "markdown",
   "metadata": {},
   "source": [
    "Lesson 8 Easter egg\n",
    "-------------------"
   ]
  },
  {
   "cell_type": "code",
   "execution_count": null,
   "metadata": {
    "collapsed": true
   },
   "outputs": [],
   "source": [
    "from __future__ import braces"
   ]
  }
 ],
 "metadata": {
  "anaconda-cloud": {},
  "kernelspec": {
   "display_name": "Python [default]",
   "language": "python",
   "name": "python3"
  },
  "language_info": {
   "codemirror_mode": {
    "name": "ipython",
    "version": 3
   },
   "file_extension": ".py",
   "mimetype": "text/x-python",
   "name": "python",
   "nbconvert_exporter": "python",
   "pygments_lexer": "ipython3",
   "version": "3.5.2"
  }
 },
 "nbformat": 4,
 "nbformat_minor": 1
}
