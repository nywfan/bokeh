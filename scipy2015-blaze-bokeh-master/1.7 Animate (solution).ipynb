{
 "cells": [
  {
   "cell_type": "markdown",
   "metadata": {},
   "source": [
    "# <img src=images/continuum_analytics_b&w.png align=\"left\" width=\"15%\" style=\"margin-right:15%\">"
   ]
  },
  {
   "cell_type": "markdown",
   "metadata": {},
   "source": [
    "<h1 align='center'>Bokeh Tutorial</h1>"
   ]
  },
  {
   "cell_type": "markdown",
   "metadata": {},
   "source": [
    "## 1.7 Animate"
   ]
  },
  {
   "cell_type": "markdown",
   "metadata": {},
   "source": [
    "**Exercise: Animate the climate map**\n",
    "\n",
    "Create a loop that updates the data source of the `climate_map` through time (for every month and year). You'll need to use the bokeh-server.\n",
    "\n",
    "*Note: when using the output_server make sure that your data source doesn't contain `nans`*"
   ]
  },
  {
   "cell_type": "code",
   "execution_count": 1,
   "metadata": {
    "collapsed": false
   },
   "outputs": [
    {
     "ename": "ImportError",
     "evalue": "cannot import name cursession",
     "output_type": "error",
     "traceback": [
      "\u001b[1;31m---------------------------------------------------------------------------\u001b[0m",
      "\u001b[1;31mImportError\u001b[0m                               Traceback (most recent call last)",
      "\u001b[1;32m<ipython-input-1-ee25a02db3d5>\u001b[0m in \u001b[0;36m<module>\u001b[1;34m()\u001b[0m\n\u001b[0;32m      3\u001b[0m \u001b[1;32mimport\u001b[0m \u001b[0mnetCDF4\u001b[0m\u001b[1;33m\u001b[0m\u001b[0m\n\u001b[0;32m      4\u001b[0m \u001b[1;33m\u001b[0m\u001b[0m\n\u001b[1;32m----> 5\u001b[1;33m \u001b[1;32mfrom\u001b[0m \u001b[0mbokeh\u001b[0m\u001b[1;33m.\u001b[0m\u001b[0mplotting\u001b[0m \u001b[1;32mimport\u001b[0m \u001b[0mvplot\u001b[0m\u001b[1;33m,\u001b[0m \u001b[0mhplot\u001b[0m\u001b[1;33m,\u001b[0m \u001b[0mcursession\u001b[0m\u001b[1;33m,\u001b[0m \u001b[0moutput_server\u001b[0m\u001b[1;33m,\u001b[0m \u001b[0mshow\u001b[0m\u001b[1;33m\u001b[0m\u001b[0m\n\u001b[0m\u001b[0;32m      6\u001b[0m \u001b[1;33m\u001b[0m\u001b[0m\n\u001b[0;32m      7\u001b[0m \u001b[1;32mfrom\u001b[0m \u001b[0mviz\u001b[0m \u001b[1;32mimport\u001b[0m \u001b[0mclimate_map\u001b[0m\u001b[1;33m,\u001b[0m \u001b[0mtimeseries\u001b[0m\u001b[1;33m,\u001b[0m \u001b[0mlegend\u001b[0m\u001b[1;33m,\u001b[0m \u001b[0mget_slice\u001b[0m\u001b[1;33m\u001b[0m\u001b[0m\n",
      "\u001b[1;31mImportError\u001b[0m: cannot import name cursession"
     ]
    }
   ],
   "source": [
    "# Imports\n",
    "import numpy as np\n",
    "import netCDF4\n",
    "\n",
    "from bokeh.plotting import vplot, hplot, cursession, output_server, show\n",
    "\n",
    "from viz import climate_map, timeseries, legend, get_slice"
   ]
  },
  {
   "cell_type": "code",
   "execution_count": null,
   "metadata": {
    "collapsed": true
   },
   "outputs": [],
   "source": [
    "# Data\n",
    "data = netCDF4.Dataset('data/Land_and_Ocean_LatLong1.nc')\n",
    "t = data.variables['temperature']"
   ]
  },
  {
   "cell_type": "code",
   "execution_count": 3,
   "metadata": {
    "collapsed": false
   },
   "outputs": [
    {
     "name": "stdout",
     "output_type": "stream",
     "text": [
      "Using saved session configuration for http://localhost:5006/\n",
      "To override, pass 'load_from_config=False' to Session\n"
     ]
    }
   ],
   "source": [
    "# Output option\n",
    "output_server(\"climate\")"
   ]
  },
  {
   "cell_type": "code",
   "execution_count": 4,
   "metadata": {
    "collapsed": true
   },
   "outputs": [],
   "source": [
    "# Plots\n",
    "climate_map = climate_map()\n",
    "timeseries = timeseries()\n",
    "legend = legend()"
   ]
  },
  {
   "cell_type": "code",
   "execution_count": 5,
   "metadata": {
    "collapsed": false
   },
   "outputs": [],
   "source": [
    "# Create layout\n",
    "map_legend = hplot(climate_map, legend)\n",
    "layout = vplot(map_legend, timeseries)"
   ]
  },
  {
   "cell_type": "code",
   "execution_count": 9,
   "metadata": {
    "collapsed": true
   },
   "outputs": [],
   "source": [
    "# Show\n",
    "show(layout)"
   ]
  },
  {
   "cell_type": "code",
   "execution_count": 10,
   "metadata": {
    "collapsed": true
   },
   "outputs": [],
   "source": [
    "# Select data source for climate_map\n",
    "renderer = climate_map.select(dict(name=\"image\"))\n",
    "ds = renderer[0].data_source"
   ]
  },
  {
   "cell_type": "code",
   "execution_count": null,
   "metadata": {
    "collapsed": false
   },
   "outputs": [],
   "source": [
    "# Create a loop that goes through month and year and updates the image data\n",
    "import time\n",
    "\n",
    "for year_index in np.arange(2000, 2015, 1):\n",
    "    for month_index in np.arange(1, 13, 1):\n",
    "        image = get_slice(t, year_index, month_index)\n",
    "        ds.data[\"image\"] = [image]\n",
    "        cursession().store_objects(ds)\n",
    "        time.sleep(0.2)"
   ]
  }
 ],
 "metadata": {
  "kernelspec": {
   "display_name": "Python 2",
   "language": "python",
   "name": "python2"
  }
 },
 "nbformat": 4,
 "nbformat_minor": 0
}
