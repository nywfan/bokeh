{
 "metadata": {
  "name": "",
  "signature": "sha256:427b76d2dffaf65d67838161251722070954102f635cd2714b785db191967041"
 },
 "nbformat": 3,
 "nbformat_minor": 0,
 "worksheets": [
  {
   "cells": [
    {
     "cell_type": "markdown",
     "metadata": {},
     "source": [
      "# GOAL - Learn the Tornado templating system"
     ]
    },
    {
     "cell_type": "markdown",
     "metadata": {},
     "source": [
      "Start by navigating to ***02 - Lesson*** and opening the ***app.py*** file."
     ]
    },
    {
     "cell_type": "markdown",
     "metadata": {},
     "source": [
      "    class MainHandler(tornado.web.RequestHandler):\n",
      "        def get(self):\n",
      "            self.render('templates/index.html',\n",
      "                        page_title = 'This is Amazing!!!',\n",
      "                        page_heading = 'Welcome to Tornado'\n",
      "            ) "
     ]
    },
    {
     "cell_type": "markdown",
     "metadata": {},
     "source": [
      "The only difference between the first lesson and this one is that we now have two new variables. What we are going to do is pass these two variables to the index.HTML page.  \n",
      "\n",
      "**New Variables:**:\n",
      "\n",
      "* page_title  \n",
      "* page_heading  \n",
      "\n",
      "Notice all we had to do is simply pass the variables inside the ***render*** function."
     ]
    },
    {
     "cell_type": "markdown",
     "metadata": {},
     "source": [
      "## How do we accept variables on the HTML side of our web app?  \n",
      "\n",
      "Remember that we have created two new variables named ***page_title*** and ***page_heading*** and we are passing these variables to the ***index.HTML*** page.  "
     ]
    },
    {
     "cell_type": "markdown",
     "metadata": {},
     "source": [
      "#### template.HTML"
     ]
    },
    {
     "cell_type": "markdown",
     "metadata": {},
     "source": [
      "    <title>{{ escape(page_title) }}</title>"
     ]
    },
    {
     "cell_type": "markdown",
     "metadata": {},
     "source": [
      "If you open up the template.HTML code you will see that instead of hard coding the title we have the ***page_title*** variable inside curly brakets. This is all we have to do in order to pass a variable from the ***app.py*** script into out HTML page."
     ]
    },
    {
     "cell_type": "markdown",
     "metadata": {},
     "source": [
      "#### index.HTML  \n",
      "\n",
      "Now it's your turn... open the index.HTML page and see how we were able to pass the ***page_header*** parameter."
     ]
    },
    {
     "cell_type": "markdown",
     "metadata": {},
     "source": [
      "**Author:** [HEDARO](http://www.hedaro.com) "
     ]
    }
   ],
   "metadata": {}
  }
 ]
}