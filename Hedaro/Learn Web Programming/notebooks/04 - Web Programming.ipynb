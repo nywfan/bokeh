{
 "metadata": {
  "name": "",
  "signature": "sha256:1059d04e4664c839eae91a90014b331de510af1df7708e419335043d19097e36"
 },
 "nbformat": 3,
 "nbformat_minor": 0,
 "worksheets": [
  {
   "cells": [
    {
     "cell_type": "markdown",
     "metadata": {},
     "source": [
      "# Goal - Bootstrap!\n",
      "\n",
      "* Learn how to make your web page look good  \n",
      "* Learn how to add css and javascript files to your project    \n"
     ]
    },
    {
     "cell_type": "markdown",
     "metadata": {},
     "source": [
      "### What is Boostrap?  \n",
      "\n",
      "It's basically a web framework which lets you quickly create button, menus, forms, and many other stuff quickly. Go ahead and run lesson 4 and you will see visually it looks much better than the other lessons we have covered so far."
     ]
    },
    {
     "cell_type": "markdown",
     "metadata": {},
     "source": [
      "### How to get bootstrap?  \n",
      "\n",
      "Just navigate to their main [webpage](http://getbootstrap.com/) and download the zip file. After you finished downloading the file go to ***bootstrap-3.0.0\\\\dist*** and you will see the ***js*** and the ***css*** folders. Inside those folders are the files you can simply copy/paste into your project."
     ]
    },
    {
     "cell_type": "markdown",
     "metadata": {},
     "source": [
      "## template.HTML"
     ]
    },
    {
     "cell_type": "code",
     "collapsed": false,
     "input": [
      "#<head>\n",
      "#  <!-- Add css and javascript files -->\n",
      "#  <link href=\"{{ static_url('css/bootstrap.css') }}\" rel=\"stylesheet\">\n",
      "#  <script src=\"{{ static_url('js/bootstrap.js') }}\"></script>\n",
      "#</head>"
     ],
     "language": "python",
     "metadata": {},
     "outputs": [],
     "prompt_number": 2
    },
    {
     "cell_type": "markdown",
     "metadata": {},
     "source": [
      "It is here in the head tags that we actually make available the css and javascript files. Notice we used the ***static_url*** we defined in ***app.py***. I know you have questions but for now you can simply use these lines of code as your template when adding css and js files into your web app. The code inside the ***body tags*** is just simply a bunch of bootstrap code that we will not be covering in these introductory tutorials."
     ]
    },
    {
     "cell_type": "markdown",
     "metadata": {},
     "source": [
      "**Author:** [HEDARO](http://www.hedaro.com) "
     ]
    }
   ],
   "metadata": {}
  }
 ]
}