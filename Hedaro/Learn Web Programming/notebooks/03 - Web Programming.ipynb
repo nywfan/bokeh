{
 "metadata": {
  "name": "",
  "signature": "sha256:ad7cc840693de27f4e83ae39fb69bd2c224f35c0b509d13d39941869aa43e725"
 },
 "nbformat": 3,
 "nbformat_minor": 0,
 "worksheets": [
  {
   "cells": [
    {
     "cell_type": "markdown",
     "metadata": {},
     "source": [
      "# Goal - Add some basic settings to our web app  \n",
      "\n",
      "* Add references to our static and template folders   \n",
      "* Turn on debugging   \n"
     ]
    },
    {
     "cell_type": "markdown",
     "metadata": {},
     "source": [
      "The only changes are in the ***app.py*** file. So go ahead and open up the third lesson and lets begin..."
     ]
    },
    {
     "cell_type": "code",
     "collapsed": false,
     "input": [
      "#settings = dict(\n",
      "#        template_path=os.path.join(os.path.dirname(__file__), \"templates\"),\n",
      "#        static_path=os.path.join(os.path.dirname(__file__), \"static\"),\n",
      "#        debug=True\n",
      "#)"
     ],
     "language": "python",
     "metadata": {},
     "outputs": [],
     "prompt_number": 1
    },
    {
     "cell_type": "markdown",
     "metadata": {},
     "source": [
      "We have basically moved the debug option out of the url handler into a dictionary we call ***settings***. In here we also let Tornado know where the ***template*** and ***static*** folders are located."
     ]
    },
    {
     "cell_type": "code",
     "collapsed": false,
     "input": [
      "#self.render('index.html',\n",
      "#             page_title = 'This is Amazing!!!',\n",
      "#             page_heading = 'Welcome to Tornado'\n",
      "#) "
     ],
     "language": "python",
     "metadata": {},
     "outputs": [],
     "prompt_number": 2
    },
    {
     "cell_type": "markdown",
     "metadata": {},
     "source": [
      "As shown above we can now refer to files directly by their name instead of ***template/index.html*** as we have been doing previously."
     ]
    },
    {
     "cell_type": "markdown",
     "metadata": {},
     "source": [
      "**Author:** [HEDARO](http://www.hedaro.com)  "
     ]
    }
   ],
   "metadata": {}
  }
 ]
}