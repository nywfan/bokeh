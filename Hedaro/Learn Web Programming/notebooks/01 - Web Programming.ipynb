{
 "metadata": {
  "name": "",
  "signature": "sha256:e30cd5cb2dc1bdcd9bf3a52648cdb2a4ff26bc7902727c25df889bb7e4a6146a"
 },
 "nbformat": 3,
 "nbformat_minor": 0,
 "worksheets": [
  {
   "cells": [
    {
     "cell_type": "markdown",
     "metadata": {},
     "source": [
      "# Goal - Create your very first web app\n",
      "\n",
      "* Learn how to structure your projects  \n",
      "* Create the front end using HTML  \n",
      "* Learn server-side programming  \n"
     ]
    },
    {
     "cell_type": "markdown",
     "metadata": {},
     "source": [
      "#### Prerequisites:  \n",
      "\n",
      "* Install Python and all needed libraries ([windows](http://www.youtube.com/watch?v=g4v9_K3Rq3Y), [Linux](http://hdrojas.pythonanywhere.com/static/data/Data%20Analysis%20Kick%20Start.html))  \n",
      "\n",
      "The Python library we will be using to create our web app is called [Tornado](http://www.tornadoweb.org/). This library is included in your Anaconda installation.\n"
     ]
    },
    {
     "cell_type": "markdown",
     "metadata": {},
     "source": [
      "# 01 - Lesson  "
     ]
    },
    {
     "cell_type": "markdown",
     "metadata": {},
     "source": [
      "These are the files you will find in the folder.  \n",
      "\n",
      "* static  \n",
      "* templates  \n",
      "* app.py  \n",
      "\n",
      "### static:  \n",
      "\n",
      "> This folder will hold any javascript, css, or any other misc files. For our first lessons we will leave this folder empty   \n",
      "\n",
      "### templates:    \n",
      "\n",
      "> This folder will hold all of our HTML files  \n",
      "\n",
      "### app.py:  \n",
      "\n",
      "> This is our Python server  \n"
     ]
    },
    {
     "cell_type": "markdown",
     "metadata": {},
     "source": [
      "# How do I run the app?  \n",
      "\n",
      "We first need to run the ***app.py*** script and then navigate to ***http://localhost:8888/***  \n",
      "\n",
      "**Step 1:** Open the terminal/command prompt and navigate to the ***\"01 - Lesson\"*** folder  \n",
      "> i.e. cd C:\\\\repos\\\\tornado\\\\lessons\\\\01 - Lesson  \n",
      "\n",
      "**Step 2:** Run the app.py file in the terminal  \n",
      "> i.e. python app.py  \n",
      "\n",
      "You should see the a similar message:    \n",
      "\n",
      "> Microsoft Windows [Version 6.1.7601]  \n",
      "> Copyright (c) 2009 Microsoft Corporation.  All rights reserved.  \n",
      "\n",
      "> C:\\\\Users\\\\david>cd C:\\\\repos\\\\tornado\\\\lessons\\\\01 - Lesson   \n",
      "\n",
      "> C:\\\\repos\\\\tornado\\\\lessons\\\\01 - Lesson>python app.py  \n",
      "> Server Running at http://localhost:8888/  \n",
      "> To close press ctrl + c \n",
      "\n",
      "**Step 3:** Using your web browser navigate to ***http://localhost:8888/***  \n",
      "\n",
      "If the page renders and you see \"Welcome to Tornado\", you are ready to continue.  "
     ]
    },
    {
     "cell_type": "markdown",
     "metadata": {},
     "source": [
      "# Front-end"
     ]
    },
    {
     "cell_type": "markdown",
     "metadata": {},
     "source": [
      "There are two HTML files that are used to create the front end (what you are seeing in the web browser).  \n",
      "\n",
      "* template.html - This is the first file we create and then the rest of the HTML files are based of this template  \n",
      "* index.html - The main file that will be served when we navigate to localhost  \n",
      "\n",
      "### template.HTML  \n",
      "\n",
      "Lets look at the code..."
     ]
    },
    {
     "cell_type": "code",
     "collapsed": false,
     "input": [
      "# <!DOCTYPE html>\n",
      "# <head>\n",
      "#   <title>Tornado</title>\n",
      "# </head>\n",
      "# <body>\n",
      "#\n",
      "#     {% block content %}\n",
      "#     {% end block %}\n",
      "#        \n",
      "# </body>\n",
      "# </html>"
     ],
     "language": "python",
     "metadata": {},
     "outputs": [],
     "prompt_number": 1
    },
    {
     "cell_type": "markdown",
     "metadata": {},
     "source": [
      "***DOCTYPE tag*** - Tells the web broswer that we are going to be using HTML5  \n",
      "\n",
      "***head tags*** - Inside these tags <></> you usually place a title for the page, javascript files, and/or CSS files. In our example we only have a title.  \n",
      "\n",
      "***body tags*** - Here is were most of the content of the page is found. anything from text, links, videos, pictures, etc.   \n",
      "\n",
      "***{% start/end block%}*** - This is part of tornado templating system. More on how to use this later.  \n",
      "\n",
      "***html tag*** - Here we are just simply closing the HTML tag on line one.  \n",
      "\n"
     ]
    },
    {
     "cell_type": "markdown",
     "metadata": {},
     "source": [
      "### index.HTML    \n",
      "\n",
      "Lets look at the code..."
     ]
    },
    {
     "cell_type": "code",
     "collapsed": false,
     "input": [
      "# {% extends \"template.html\" %}\n",
      "# {% block content %}\n",
      "#\n",
      "#                <h2>Welcome to Tornado</h2>\n",
      "#                <br>\n",
      "#                <p>This is the index page</p>\n",
      "#\n",
      "# {% end block %}"
     ],
     "language": "python",
     "metadata": {},
     "outputs": [],
     "prompt_number": 2
    },
    {
     "cell_type": "markdown",
     "metadata": {},
     "source": [
      "***{% extends \"template.html\" %}*** - This just means we will be importing all of the code we wrote in the template.html file    \n",
      "\n",
      "The interesting part is that we now see the same ***{% start/end block%}*** code in the index.html file as in the template.html file.  \n",
      "\n",
      "What is happening here?"
     ]
    },
    {
     "cell_type": "markdown",
     "metadata": {},
     "source": [
      "Everything in between the block code will be placed in the block code of the template.html file"
     ]
    },
    {
     "cell_type": "code",
     "collapsed": false,
     "input": [
      "# {% block content %}\n",
      "#    \n",
      "#                <h2>Welcome to Tornado</h2>\n",
      "#                <br>\n",
      "#                <p>This is the index page</p>\n",
      "#    \n",
      "# {% end block %}"
     ],
     "language": "python",
     "metadata": {},
     "outputs": [],
     "prompt_number": 3
    },
    {
     "cell_type": "markdown",
     "metadata": {},
     "source": [
      "In other words..."
     ]
    },
    {
     "cell_type": "code",
     "collapsed": false,
     "input": [
      "# <!DOCTYPE html>\n",
      "# <head>\n",
      "#   <title>Tornado</title>\n",
      "# </head>\n",
      "# <body>\n",
      "#\n",
      "#     \n",
      "#        <h2>Welcome to Tornado</h2>\n",
      "#        <br>\n",
      "#        <p>This is the index page</p>\n",
      "#     \n",
      "#        \n",
      "# </body>\n",
      "# </html>"
     ],
     "language": "python",
     "metadata": {},
     "outputs": [],
     "prompt_number": 5
    },
    {
     "cell_type": "markdown",
     "metadata": {},
     "source": [
      "### app.py  \n",
      "\n",
      "Lets look at the code..."
     ]
    },
    {
     "cell_type": "markdown",
     "metadata": {},
     "source": [
      "#### Section 1\n",
      "    import tornado.ioloop\n",
      "    import tornado.web\n",
      "    \n",
      "\n",
      "#### Section 2\n",
      "    class MainHandler(tornado.web.RequestHandler):\n",
      "        def get(self):\n",
      "            self.render('templates/index.html') \n",
      "\n",
      "#### Section 3\n",
      "    # r\"/\" == root website address\n",
      "    application = tornado.web.Application([\n",
      "        (r\"/\", MainHandler)\n",
      "    ],debug=True) \n",
      "    \n",
      "#### Section 4\n",
      "    if __name__ == \"__main__\":\n",
      "        PortNumber = str(8888)\n",
      "        print r'Server Running at http://localhost:' + PortNumber + r'/'\n",
      "        print r'To close press ctrl + c'\n",
      "        application.listen(PortNumber)\n",
      "        tornado.ioloop.IOLoop.instance().start()"
     ]
    },
    {
     "cell_type": "markdown",
     "metadata": {},
     "source": [
      "***Section 1:***  \n",
      "Import what we need from Tornado  \n",
      "\n",
      "***Section 3:***  \n",
      "This is were you tell Tornado what to do when someone goes to your webpage. In our case there is only one url address ***(r\"/\")*** and it says when someone goes to ***http://localhost:8888/***, then go to the class named ***MainHandler***. The class MainHandler is in Section 2.  \n",
      "\n",
      "***Section 2:***  \n",
      "This class gets called when someone navigates to ***http://localhost:8888/***. It then renders the index.HTML file. The function ***get*** is a Tornado function.  \n",
      "\n",
      "***Section 4:***  \n",
      "Aside from the print statements we select a port number and tell Tornado to start the server."
     ]
    },
    {
     "cell_type": "markdown",
     "metadata": {},
     "source": [
      "**Author:** [HEDARO](http://www.hedaro.com)  "
     ]
    }
   ],
   "metadata": {}
  }
 ]
}