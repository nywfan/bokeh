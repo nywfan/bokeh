{
 "metadata": {
  "name": "",
  "signature": "sha256:2bab1fa3123a42dcf5be384808ee328f71d237f36b833d957d4ff59c4a78b556"
 },
 "nbformat": 3,
 "nbformat_minor": 0,
 "worksheets": [
  {
   "cells": [
    {
     "cell_type": "markdown",
     "metadata": {},
     "source": [
      "# Goal - Explore on your own\n",
      "\n",
      "Here are some ideas:  \n",
      "\n",
      "* Go to ***http://localhost:8888/data2*** and compare the results to ***http://localhost:8888***  \n",
      "You can see how Bootstrap makes it really easy to make your webapp look good.  \n",
      "  \n",
      "  \n",
      "* Take a look at ***app.py*** and notice all of the ***(r\"/something\", something)***. You will start to see how everything ties together.\n",
      "  \n",
      "\n",
      "* See if you can figure out how we were able to call a function in a script ***(i.e. to_json())*** and push the results to an HTML page.    \n"
     ]
    },
    {
     "cell_type": "markdown",
     "metadata": {},
     "source": [
      "**Author:** [HEDARO](http://www.hedaro.com)  "
     ]
    }
   ],
   "metadata": {}
  }
 ]
}