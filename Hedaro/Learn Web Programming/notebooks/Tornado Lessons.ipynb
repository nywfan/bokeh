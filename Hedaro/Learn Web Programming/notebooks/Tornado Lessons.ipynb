{
 "metadata": {
  "name": "",
  "signature": "sha256:a362230be2876f33627d5208e5c7ac5255d7e96b167f9e4eabb24378bbe3fd3e"
 },
 "nbformat": 3,
 "nbformat_minor": 0,
 "worksheets": [
  {
   "cells": [
    {
     "cell_type": "markdown",
     "metadata": {},
     "source": [
      "# Tornado Lessons \n",
      "\n",
      "* template - Basic HTML framework  \n",
      "* index - The home page   \n",
      "* 01 Lesson - How to create a simple web server, HTML template, and how to create HTML based off a template  \n",
      "* 02 Lesson - How to pass variables from python to our HTML files  \n",
      "* 03 Lesson - Add some settings   \n",
      "* 04 Lesson - Bootstrap! \n",
      "* 05 Lesson - More useful goodies for you to explore on your own     \n",
      "\n",
      "---"
     ]
    },
    {
     "cell_type": "markdown",
     "metadata": {},
     "source": [
      "#### The basic structure of each lesson will look like the following:\n",
      "\n",
      "* static folder (not all of the lessons will have this folder) - Here we store any css, javascript, pictures, flat files, etc  \n",
      "* templates - Here you will find all of the HTML files  \n",
      "1. template.html - This is where we will create the structure of our HTML pages  \n",
      "2. index.html - This is our home page, very basic. It is built off the template  \n",
      "3. nn - Lesson.html - These are the lessons that are built off the template  \n",
      "4. something.html (not all of the lessons will have these files) - Some extra HTML files to show you extra functionality    \n",
      "* app.py - This is our Tornado server we will to serve the html files and call some python code  \n",
      "* something.py (not all of the lessons will have these files) - Some extra python scripts to show you extra functionality \n",
      "\n",
      "#### How to start the server and see the lessons?  \n",
      "\n",
      "* Step1: Double click on the file app.py  \n",
      "* Step2: Go to your web browser (I suggest chrome) and point to http://localhost:8888/ and you will see the index.html page     \n",
      "\n",
      "Enjoy!"
     ]
    },
    {
     "cell_type": "markdown",
     "metadata": {},
     "source": [
      "# 01 - Lesson"
     ]
    },
    {
     "cell_type": "markdown",
     "metadata": {},
     "source": [
      "### template.HTML"
     ]
    },
    {
     "cell_type": "markdown",
     "metadata": {},
     "source": [
      "This is the template we will be using. These pieces are all HTML. "
     ]
    },
    {
     "cell_type": "code",
     "collapsed": false,
     "input": [
      "# <!DOCTYPE html>\n",
      "# <head>\n",
      "#   <title>Tornado</title>\n",
      "# </head>\n",
      "# <body>\n",
      "#\n",
      "#     {% block content %}\n",
      "#     {% end block %}\n",
      "#        \n",
      "# </body>\n",
      "# </html>"
     ],
     "language": "python",
     "metadata": {},
     "outputs": [],
     "prompt_number": 1
    },
    {
     "cell_type": "markdown",
     "metadata": {},
     "source": [
      "The skeleton"
     ]
    },
    {
     "cell_type": "code",
     "collapsed": false,
     "input": [
      "# <!DOCTYPE html>\n",
      "#\n",
      "#   <head>\n",
      "#   </head>\n",
      "#\n",
      "#   <body>\n",
      "#   </body>\n",
      "#\n",
      "# </html>"
     ],
     "language": "python",
     "metadata": {},
     "outputs": [],
     "prompt_number": 2
    },
    {
     "cell_type": "markdown",
     "metadata": {},
     "source": [
      "This code gives the web page a title of \"tornado\"."
     ]
    },
    {
     "cell_type": "code",
     "collapsed": false,
     "input": [
      "#   <title>Tornado</title>"
     ],
     "language": "python",
     "metadata": {},
     "outputs": [],
     "prompt_number": 3
    },
    {
     "cell_type": "markdown",
     "metadata": {},
     "source": [
      "The ***block*** code is where we will dynamically be adding code in just a moment"
     ]
    },
    {
     "cell_type": "code",
     "collapsed": false,
     "input": [
      "#     {% block content %}\n",
      "#     {% end block %}"
     ],
     "language": "python",
     "metadata": {},
     "outputs": [],
     "prompt_number": 4
    },
    {
     "cell_type": "markdown",
     "metadata": {},
     "source": [
      "### index.html"
     ]
    },
    {
     "cell_type": "code",
     "collapsed": false,
     "input": [
      "# {% extends \"template.html\" %}\n",
      "# {% block content %}\n",
      "#\n",
      "#                <h2>Welcome to Tornado</h2>\n",
      "#                <br>\n",
      "#                <p>This is the index page</p>\n",
      "#\n",
      "# {% end block %}"
     ],
     "language": "python",
     "metadata": {},
     "outputs": [],
     "prompt_number": 5
    },
    {
     "cell_type": "markdown",
     "metadata": {},
     "source": [
      "This just means we will be importing the template.html file"
     ]
    },
    {
     "cell_type": "code",
     "collapsed": false,
     "input": [
      "# {% extends \"template.html\" %}"
     ],
     "language": "python",
     "metadata": {},
     "outputs": [],
     "prompt_number": 6
    },
    {
     "cell_type": "markdown",
     "metadata": {},
     "source": [
      "Everything in between the ***block*** code will be placed in the ***block*** code of the template.html file"
     ]
    },
    {
     "cell_type": "code",
     "collapsed": false,
     "input": [
      "# {% block content %}\n",
      "#\n",
      "#                <h2>Welcome to Tornado</h2>\n",
      "#                <br>\n",
      "#                <p>This is the index page</p>\n",
      "#\n",
      "# {% end block %}"
     ],
     "language": "python",
     "metadata": {},
     "outputs": [],
     "prompt_number": 7
    },
    {
     "cell_type": "markdown",
     "metadata": {},
     "source": [
      "In other words..."
     ]
    },
    {
     "cell_type": "code",
     "collapsed": false,
     "input": [
      "# <!DOCTYPE html>\n",
      "# <head>\n",
      "#   <title>Tornado</title>\n",
      "# </head>\n",
      "# <body>\n",
      "#\n",
      "#\n",
      "#                <h2>Welcome to Tornado</h2>\n",
      "#                <br>\n",
      "#                <p>This is the index page</p>\n",
      "#\n",
      "#        \n",
      "# </body>\n",
      "# </html>"
     ],
     "language": "python",
     "metadata": {},
     "outputs": [],
     "prompt_number": 8
    },
    {
     "cell_type": "markdown",
     "metadata": {},
     "source": [
      "### app.py"
     ]
    },
    {
     "cell_type": "markdown",
     "metadata": {},
     "source": [
      "This is the code that starts the server."
     ]
    },
    {
     "cell_type": "code",
     "collapsed": false,
     "input": [
      "# if __name__ == \"__main__\":\n",
      "#     PortNumber = str(8888)\n",
      "#     print r'Server Running at http://localhost:' + PortNumber + r'/'\n",
      "#     print r'To close press ctrl + c'\n",
      "#     application.listen(PortNumber)\n",
      "#     tornado.ioloop.IOLoop.instance().start()"
     ],
     "language": "python",
     "metadata": {},
     "outputs": [],
     "prompt_number": 9
    },
    {
     "cell_type": "markdown",
     "metadata": {},
     "source": [
      "This is the part of the code that we tell Tornado to route to different web pages. When you type http://localhost:8888/ on your web browser Tornado reads this as r\"/\". It then says go to ***MainHandler***, which is a class we have defined in our code. If you type http://localhost:8888/something, you will get an error because you have not defined something in your ***application***.  "
     ]
    },
    {
     "cell_type": "code",
     "collapsed": false,
     "input": [
      "# application = tornado.web.Application([\n",
      "#     (r\"/\", MainHandler)\n",
      "# ],debug=True) "
     ],
     "language": "python",
     "metadata": {},
     "outputs": [],
     "prompt_number": 10
    },
    {
     "cell_type": "markdown",
     "metadata": {},
     "source": [
      "You would have to add code similar to the one below in addition to a ***something*** class. You can go ahead and take a peek at Lesson five to get a better idea."
     ]
    },
    {
     "cell_type": "code",
     "collapsed": false,
     "input": [
      "# application = tornado.web.Application([\n",
      "#     (r\"/\", MainHandler,\n",
      "#     (r\"/something\", something\n",
      "# )],debug=True) "
     ],
     "language": "python",
     "metadata": {},
     "outputs": [],
     "prompt_number": 11
    },
    {
     "cell_type": "markdown",
     "metadata": {},
     "source": [
      "Here we are basically asking the Tornado server to get (fetch/retrieve) the index.html file."
     ]
    },
    {
     "cell_type": "code",
     "collapsed": false,
     "input": [
      "# class MainHandler(tornado.web.RequestHandler):\n",
      "#     def get(self):\n",
      "#         self.render('templates/index.html') "
     ],
     "language": "python",
     "metadata": {},
     "outputs": [],
     "prompt_number": 12
    },
    {
     "cell_type": "markdown",
     "metadata": {},
     "source": [
      "# 02 - Lesson"
     ]
    },
    {
     "cell_type": "markdown",
     "metadata": {},
     "source": [
      "Adding the following code to our HTML code will allow us to execute python in our HTML files.....very nice!  \n",
      "\n",
      "***{{ python code goes here }}***"
     ]
    },
    {
     "cell_type": "code",
     "collapsed": false,
     "input": [
      "# {{ page_heading }}"
     ],
     "language": "python",
     "metadata": {},
     "outputs": [],
     "prompt_number": 13
    },
    {
     "cell_type": "markdown",
     "metadata": {},
     "source": [
      "This is how we tell Tornado to pass along variables to our HTML files."
     ]
    },
    {
     "cell_type": "code",
     "collapsed": false,
     "input": [
      "# class MainHandler(tornado.web.RequestHandler):\n",
      "#     def get(self):\n",
      "#         self.render('templates/index.html',\n",
      "#                     page_title = 'This is Amazing!!!',\n",
      "#                     page_heading = 'Welcome to Tornado'\n",
      "#     ) "
     ],
     "language": "python",
     "metadata": {},
     "outputs": [],
     "prompt_number": 14
    },
    {
     "cell_type": "markdown",
     "metadata": {},
     "source": [
      "# 03 - Lesson"
     ]
    },
    {
     "cell_type": "markdown",
     "metadata": {},
     "source": [
      "This will make it easier for us to reference files going forward."
     ]
    },
    {
     "cell_type": "code",
     "collapsed": false,
     "input": [
      "# settings = dict(\n",
      "#         template_path=os.path.join(os.path.dirname(__file__), \"templates\"),\n",
      "#         static_path=os.path.join(os.path.dirname(__file__), \"static\"),\n",
      "#         debug=True\n",
      "# )"
     ],
     "language": "python",
     "metadata": {},
     "outputs": [],
     "prompt_number": 15
    },
    {
     "cell_type": "markdown",
     "metadata": {},
     "source": [
      "# 04 - Lesson"
     ]
    },
    {
     "cell_type": "markdown",
     "metadata": {},
     "source": [
      "Here we make our site a little better looking. I added bootstrap to the static folder (css and javascript file). Take a look at the HTML files and see how they are included."
     ]
    },
    {
     "cell_type": "markdown",
     "metadata": {},
     "source": [
      "**Author:** [HEDARO](http://www.hedaro.com) "
     ]
    }
   ],
   "metadata": {}
  }
 ]
}