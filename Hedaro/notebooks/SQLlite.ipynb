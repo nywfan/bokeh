{
 "cells": [
  {
   "cell_type": "code",
   "execution_count": 1,
   "metadata": {
    "collapsed": false
   },
   "outputs": [],
   "source": [
    "import pandas as pd\n",
    "import sqlalchemy\n",
    "from sqlalchemy import create_engine, MetaData, Table, select, Column, Numeric, Integer, BigInteger, String, DateTime\n",
    "from datetime import date\n",
    "import sys"
   ]
  },
  {
   "cell_type": "code",
   "execution_count": 2,
   "metadata": {
    "collapsed": false
   },
   "outputs": [
    {
     "name": "stdout",
     "output_type": "stream",
     "text": [
      "Python version 2.7.5 |Anaconda 2.3.0 (64-bit)| (default, Jul  1 2013, 12:37:52) [MSC v.1500 64 bit (AMD64)]\n",
      "Pandas version 0.16.2\n",
      "SQLalchemy version: 1.0.5\n"
     ]
    }
   ],
   "source": [
    "print 'Python version ' + sys.version\n",
    "print 'Pandas version ' + pd.__version__\n",
    "print 'SQLalchemy version: ' + sqlalchemy.__version__"
   ]
  },
  {
   "cell_type": "markdown",
   "metadata": {},
   "source": [
    "> We will be using sqlalchemy to connect to a sqllite database. The beauty of using sqlalchemy is that you can reuse the code below and connect to a different database like mssql, mysql, postgresql, or oracle."
   ]
  },
  {
   "cell_type": "markdown",
   "metadata": {},
   "source": [
    "# How to add records to table?"
   ]
  },
  {
   "cell_type": "code",
   "execution_count": 3,
   "metadata": {
    "collapsed": false
   },
   "outputs": [],
   "source": [
    "def add_records(tbl, name, price, dateadded):\n",
    "    \"\"\" add records to db \"\"\"\n",
    "    \n",
    "    # Create the connection\n",
    "    engine = create_engine('sqlite:///tutorial.db')\n",
    "    conn = engine.connect()\n",
    "    \n",
    "    # Required for querying tables\n",
    "    metadata = MetaData(conn)    \n",
    "\n",
    "\n",
    "    tbl = Table(tbl, metadata,\n",
    "            Column('id', Integer, primary_key=True),\n",
    "            Column('name', String(300), nullable=False),  \n",
    "            Column('price', Numeric(18, 2), nullable=False),\n",
    "            Column('dateadded', DateTime, nullable=False)    \n",
    "    )   \n",
    "    \n",
    "    # checkfirst=True makes sure to only create if it doesn't exist\n",
    "    tbl.create(checkfirst=True)\n",
    "    \n",
    "    \n",
    "    sql = tbl.insert()\n",
    "    \n",
    "    try:\n",
    "        sql.execute({'name': name, \n",
    "                   'price': price,\n",
    "                   'dateadded': dateadded})\n",
    "        \n",
    "        result = True\n",
    "            \n",
    "    except Exception as e:\n",
    "        print e\n",
    "        result = False\n",
    "    \n",
    "    # Close connection\n",
    "    conn.close()    \n",
    "\n",
    "    return result\n"
   ]
  },
  {
   "cell_type": "markdown",
   "metadata": {},
   "source": [
    "# How to delete records from a table?"
   ]
  },
  {
   "cell_type": "code",
   "execution_count": 4,
   "metadata": {
    "collapsed": false
   },
   "outputs": [],
   "source": [
    "def del_records(tbl, idnum):\n",
    "    \"\"\" delete records from db. Use the primary key, id \"\"\"\n",
    "    \n",
    "    # Create the connection\n",
    "    engine = create_engine('sqlite:///tutorial.db')\n",
    "    conn = engine.connect()\n",
    "    \n",
    "    # Required for querying tables\n",
    "    metadata = MetaData(conn)         \n",
    "\n",
    "    try:\n",
    "        # Table to query\n",
    "        tbl = Table(tbl, metadata, autoload=True)    \n",
    "        \n",
    "        # sql code\n",
    "        sql = tbl.delete(tbl.c.id == idnum)\n",
    "    \n",
    "        # run sql code\n",
    "        conn.execute(sql)   \n",
    "        result = True\n",
    "\n",
    "    except Exception as e:\n",
    "        result = False        \n",
    "    \n",
    "    # Close connection\n",
    "    conn.close()      \n",
    "    \n",
    "    return result"
   ]
  },
  {
   "cell_type": "markdown",
   "metadata": {},
   "source": [
    "# How to select records from a table? "
   ]
  },
  {
   "cell_type": "code",
   "execution_count": 5,
   "metadata": {
    "collapsed": false
   },
   "outputs": [],
   "source": [
    "def get_records(tbl, idnum=None):\n",
    "    \"\"\" get records from db. Use the primary key, id \"\"\"\n",
    "    \n",
    "    # Create the connection\n",
    "    engine = create_engine('sqlite:///tutorial.db')\n",
    "    conn = engine.connect()\n",
    "    \n",
    "    # Required for querying tables\n",
    "    metadata = MetaData(conn)  \n",
    "\n",
    "    try:\n",
    "        # Table to query\n",
    "        table = Table(tbl, metadata, autoload=True)\n",
    "        \n",
    "        # sql code\n",
    "        if idnum == None:\n",
    "            sql = table.select()  \n",
    "        else: \n",
    "            sql = table.select(table.c.id == idnum) \n",
    "    \n",
    "        # run sql code\n",
    "        result = conn.execute(sql)   \n",
    "\n",
    "        # Insert to a dataframe\n",
    "        df = pd.DataFrame(data=list(result), columns=result.keys())\n",
    "\n",
    "    except Exception as e:\n",
    "        print e\n",
    "        df = False        \n",
    "\n",
    "    # Close connection\n",
    "    conn.close()      \n",
    "    \n",
    "    return df"
   ]
  },
  {
   "cell_type": "markdown",
   "metadata": {},
   "source": [
    "# How to drop a table?"
   ]
  },
  {
   "cell_type": "code",
   "execution_count": 6,
   "metadata": {
    "collapsed": false
   },
   "outputs": [],
   "source": [
    "def drop_tbl(tblname):\n",
    "    \"\"\" drop table from db. \"\"\"\n",
    "    \"\"\" Parameter = name of table \"\"\"\n",
    "    \n",
    "    # Create the connection\n",
    "    engine = create_engine('sqlite:///tutorial.db')\n",
    "    conn = engine.connect()\n",
    "    \n",
    "    # Required for querying tables\n",
    "    metadata = MetaData(conn)        \n",
    "    \n",
    "    try:    \n",
    "        # Table to query\n",
    "        tbl = Table(tblname, metadata, autoload=True)    \n",
    "    \n",
    "        # drop table\n",
    "        tbl.drop(checkfirst=True)  \n",
    "        result = True\n",
    "\n",
    "    except Exception as e:\n",
    "        result = False      \n",
    "    \n",
    "    # Close connection\n",
    "    conn.close()      \n",
    "    \n",
    "    return result "
   ]
  },
  {
   "cell_type": "markdown",
   "metadata": {},
   "source": [
    "# How to update a table?"
   ]
  },
  {
   "cell_type": "code",
   "execution_count": 7,
   "metadata": {
    "collapsed": false
   },
   "outputs": [],
   "source": [
    "def update_records(tbl, idnum, col, val):\n",
    "    \"\"\" update records from db. Use the primary key, id \"\"\"\n",
    "    \n",
    "    # Create the connection\n",
    "    engine = create_engine('sqlite:///tutorial.db')\n",
    "    conn = engine.connect()\n",
    "    \n",
    "    # Required for querying tables\n",
    "    metadata = MetaData(conn)         \n",
    "\n",
    "    try:\n",
    "        # Table to query\n",
    "        tbl = Table(tbl, metadata, autoload=True)    \n",
    "        \n",
    "        # sql code\n",
    "        sql = tbl.update().where(tbl.c.id == idnum).values(**{col: val})\n",
    "    \n",
    "        # run sql code\n",
    "        conn.execute(sql)   \n",
    "        result = True\n",
    "\n",
    "    except Exception as e:\n",
    "        print e\n",
    "        result = False        \n",
    "    \n",
    "    # Close connection\n",
    "    conn.close()      \n",
    "    \n",
    "    return result"
   ]
  },
  {
   "cell_type": "markdown",
   "metadata": {},
   "source": [
    "# How to query for tables in the database?"
   ]
  },
  {
   "cell_type": "code",
   "execution_count": 8,
   "metadata": {
    "collapsed": false
   },
   "outputs": [],
   "source": [
    "def get_tbl_names():\n",
    "    \"\"\" get table names from db \"\"\"\n",
    "    \n",
    "    # Create the connection\n",
    "    engine = create_engine('sqlite:///tutorial.db')\n",
    "    conn = engine.connect()\n",
    "    \n",
    "    # Required for querying tables\n",
    "    m = MetaData(conn)\n",
    "    m.reflect(engine)\n",
    "    for table in m.tables.values():\n",
    "        print 'TABLE'\n",
    "        print '-------------'\n",
    "        print(table.name)\n",
    "        for column in table.c:\n",
    "            print(column.name)     \n",
    "\n",
    "    # Close connection\n",
    "    conn.close()      \n",
    "    \n",
    "    return None"
   ]
  },
  {
   "cell_type": "markdown",
   "metadata": {},
   "source": [
    "# Below we use the functions created above  \n",
    "\n",
    "* Where is the tutorial.db located? You will find the file in the same folder of this notebook."
   ]
  },
  {
   "cell_type": "code",
   "execution_count": 9,
   "metadata": {
    "collapsed": false
   },
   "outputs": [
    {
     "data": {
      "text/plain": [
       "True"
      ]
     },
     "execution_count": 9,
     "metadata": {},
     "output_type": "execute_result"
    }
   ],
   "source": [
    "# Lets add some data to a table called \"tbl1\"\n",
    "\n",
    "## adding record #1\n",
    "add_records('tbl1',\n",
    "            'rateplan',\n",
    "            '1', \n",
    "            date.today())\n",
    "\n",
    "## adding record #2\n",
    "add_records('tbl1',\n",
    "            'rateplan',\n",
    "            '1', \n",
    "            date(2001, 1, 1))\n",
    "\n",
    "## adding record #3\n",
    "add_records('tbl1',\n",
    "            'rateplan',\n",
    "            '1', \n",
    "            date(2014, 12, 31))"
   ]
  },
  {
   "cell_type": "code",
   "execution_count": 20,
   "metadata": {
    "collapsed": false
   },
   "outputs": [
    {
     "name": "stdout",
     "output_type": "stream",
     "text": [
      "tbl1\n"
     ]
    },
    {
     "data": {
      "text/plain": [
       "False"
      ]
     },
     "execution_count": 20,
     "metadata": {},
     "output_type": "execute_result"
    }
   ],
   "source": [
    "# select all data from tbl1\n",
    "get_records('tbl1')"
   ]
  },
  {
   "cell_type": "code",
   "execution_count": 11,
   "metadata": {
    "collapsed": false
   },
   "outputs": [
    {
     "data": {
      "text/html": [
       "<div>\n",
       "<table border=\"1\" class=\"dataframe\">\n",
       "  <thead>\n",
       "    <tr style=\"text-align: right;\">\n",
       "      <th></th>\n",
       "      <th>id</th>\n",
       "      <th>name</th>\n",
       "      <th>price</th>\n",
       "      <th>dateadded</th>\n",
       "    </tr>\n",
       "  </thead>\n",
       "  <tbody>\n",
       "    <tr>\n",
       "      <th>0</th>\n",
       "      <td>1</td>\n",
       "      <td>rateplan</td>\n",
       "      <td>1.00</td>\n",
       "      <td>2015-09-03</td>\n",
       "    </tr>\n",
       "  </tbody>\n",
       "</table>\n",
       "</div>"
      ],
      "text/plain": [
       "   id      name price  dateadded\n",
       "0   1  rateplan  1.00 2015-09-03"
      ]
     },
     "execution_count": 11,
     "metadata": {},
     "output_type": "execute_result"
    }
   ],
   "source": [
    "# select the record where id=1\n",
    "get_records('tbl1', 1)"
   ]
  },
  {
   "cell_type": "code",
   "execution_count": 12,
   "metadata": {
    "collapsed": false
   },
   "outputs": [
    {
     "data": {
      "text/html": [
       "<div>\n",
       "<table border=\"1\" class=\"dataframe\">\n",
       "  <thead>\n",
       "    <tr style=\"text-align: right;\">\n",
       "      <th></th>\n",
       "      <th>id</th>\n",
       "      <th>name</th>\n",
       "      <th>price</th>\n",
       "      <th>dateadded</th>\n",
       "    </tr>\n",
       "  </thead>\n",
       "  <tbody>\n",
       "    <tr>\n",
       "      <th>0</th>\n",
       "      <td>3</td>\n",
       "      <td>rateplan</td>\n",
       "      <td>1.00</td>\n",
       "      <td>2014-12-31</td>\n",
       "    </tr>\n",
       "  </tbody>\n",
       "</table>\n",
       "</div>"
      ],
      "text/plain": [
       "   id      name price  dateadded\n",
       "0   3  rateplan  1.00 2014-12-31"
      ]
     },
     "execution_count": 12,
     "metadata": {},
     "output_type": "execute_result"
    }
   ],
   "source": [
    "# select the record where id=3\n",
    "get_records('tbl1', 3)"
   ]
  },
  {
   "cell_type": "code",
   "execution_count": 13,
   "metadata": {
    "collapsed": false
   },
   "outputs": [
    {
     "data": {
      "text/plain": [
       "True"
      ]
     },
     "execution_count": 13,
     "metadata": {},
     "output_type": "execute_result"
    }
   ],
   "source": [
    "# update price where id=2\n",
    "update_records('tbl1', 2, 'price', 50.25)"
   ]
  },
  {
   "cell_type": "code",
   "execution_count": 14,
   "metadata": {
    "collapsed": false
   },
   "outputs": [
    {
     "data": {
      "text/html": [
       "<div>\n",
       "<table border=\"1\" class=\"dataframe\">\n",
       "  <thead>\n",
       "    <tr style=\"text-align: right;\">\n",
       "      <th></th>\n",
       "      <th>id</th>\n",
       "      <th>name</th>\n",
       "      <th>price</th>\n",
       "      <th>dateadded</th>\n",
       "    </tr>\n",
       "  </thead>\n",
       "  <tbody>\n",
       "    <tr>\n",
       "      <th>0</th>\n",
       "      <td>2</td>\n",
       "      <td>rateplan</td>\n",
       "      <td>50.25</td>\n",
       "      <td>2001-01-01</td>\n",
       "    </tr>\n",
       "  </tbody>\n",
       "</table>\n",
       "</div>"
      ],
      "text/plain": [
       "   id      name  price  dateadded\n",
       "0   2  rateplan  50.25 2001-01-01"
      ]
     },
     "execution_count": 14,
     "metadata": {},
     "output_type": "execute_result"
    }
   ],
   "source": [
    "# select the record where id=2\n",
    "get_records('tbl1', 2)"
   ]
  },
  {
   "cell_type": "code",
   "execution_count": 15,
   "metadata": {
    "collapsed": false
   },
   "outputs": [
    {
     "data": {
      "text/plain": [
       "True"
      ]
     },
     "execution_count": 15,
     "metadata": {},
     "output_type": "execute_result"
    }
   ],
   "source": [
    "# delete row where id=2\n",
    "del_records('tbl1', 2)"
   ]
  },
  {
   "cell_type": "code",
   "execution_count": 16,
   "metadata": {
    "collapsed": false
   },
   "outputs": [
    {
     "data": {
      "text/html": [
       "<div>\n",
       "<table border=\"1\" class=\"dataframe\">\n",
       "  <thead>\n",
       "    <tr style=\"text-align: right;\">\n",
       "      <th></th>\n",
       "      <th>id</th>\n",
       "      <th>name</th>\n",
       "      <th>price</th>\n",
       "      <th>dateadded</th>\n",
       "    </tr>\n",
       "  </thead>\n",
       "  <tbody>\n",
       "    <tr>\n",
       "      <th>0</th>\n",
       "      <td>1</td>\n",
       "      <td>rateplan</td>\n",
       "      <td>1.00</td>\n",
       "      <td>2015-09-03</td>\n",
       "    </tr>\n",
       "    <tr>\n",
       "      <th>1</th>\n",
       "      <td>3</td>\n",
       "      <td>rateplan</td>\n",
       "      <td>1.00</td>\n",
       "      <td>2014-12-31</td>\n",
       "    </tr>\n",
       "  </tbody>\n",
       "</table>\n",
       "</div>"
      ],
      "text/plain": [
       "   id      name price  dateadded\n",
       "0   1  rateplan  1.00 2015-09-03\n",
       "1   3  rateplan  1.00 2014-12-31"
      ]
     },
     "execution_count": 16,
     "metadata": {},
     "output_type": "execute_result"
    }
   ],
   "source": [
    "# select all data from tbl1\n",
    "get_records('tbl1')"
   ]
  },
  {
   "cell_type": "code",
   "execution_count": 17,
   "metadata": {
    "collapsed": false
   },
   "outputs": [
    {
     "name": "stdout",
     "output_type": "stream",
     "text": [
      "TABLE\n",
      "-------------\n",
      "tbl1\n",
      "id\n",
      "name\n",
      "price\n",
      "dateadded\n"
     ]
    }
   ],
   "source": [
    "# query tables in DB\n",
    "get_tbl_names()"
   ]
  },
  {
   "cell_type": "code",
   "execution_count": 18,
   "metadata": {
    "collapsed": false
   },
   "outputs": [
    {
     "data": {
      "text/plain": [
       "True"
      ]
     },
     "execution_count": 18,
     "metadata": {},
     "output_type": "execute_result"
    }
   ],
   "source": [
    "# drop tbl1\n",
    "drop_tbl('tbl1')"
   ]
  },
  {
   "cell_type": "code",
   "execution_count": 19,
   "metadata": {
    "collapsed": false
   },
   "outputs": [],
   "source": [
    "# query tables in DB\n",
    "get_tbl_names()"
   ]
  },
  {
   "cell_type": "markdown",
   "metadata": {},
   "source": [
    "**Author:** [HEDARO](http://www.hedaro.com)  "
   ]
  }
 ],
 "metadata": {
  "kernelspec": {
   "display_name": "Python 2",
   "language": "python",
   "name": "python2"
  },
  "language_info": {
   "codemirror_mode": {
    "name": "ipython",
    "version": 2
   },
   "file_extension": ".py",
   "mimetype": "text/x-python",
   "name": "python",
   "nbconvert_exporter": "python",
   "pygments_lexer": "ipython2",
   "version": "2.7.5"
  }
 },
 "nbformat": 4,
 "nbformat_minor": 0
}
